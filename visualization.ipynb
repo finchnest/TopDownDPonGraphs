{
 "cells": [
  {
   "cell_type": "code",
   "execution_count": 120,
   "metadata": {},
   "outputs": [],
   "source": [
    "# !/usr/bin/python3 -m pip install ipykernel -U --user --force-reinstall"
   ]
  },
  {
   "cell_type": "code",
   "execution_count": 121,
   "metadata": {},
   "outputs": [
    {
     "name": "stdout",
     "output_type": "stream",
     "text": [
      "Requirement already satisfied: bokeh in /opt/anaconda3/lib/python3.8/site-packages (2.3.2)\n",
      "Requirement already satisfied: typing-extensions>=3.7.4 in /opt/anaconda3/lib/python3.8/site-packages (from bokeh) (3.7.4.3)\n",
      "Requirement already satisfied: python-dateutil>=2.1 in /opt/anaconda3/lib/python3.8/site-packages (from bokeh) (2.8.1)\n",
      "Requirement already satisfied: numpy>=1.11.3 in /opt/anaconda3/lib/python3.8/site-packages (from bokeh) (1.20.1)\n",
      "Requirement already satisfied: PyYAML>=3.10 in /opt/anaconda3/lib/python3.8/site-packages (from bokeh) (5.4.1)\n",
      "Requirement already satisfied: packaging>=16.8 in /opt/anaconda3/lib/python3.8/site-packages (from bokeh) (20.9)\n",
      "Requirement already satisfied: tornado>=5.1 in /opt/anaconda3/lib/python3.8/site-packages (from bokeh) (6.1)\n",
      "Requirement already satisfied: Jinja2>=2.9 in /opt/anaconda3/lib/python3.8/site-packages (from bokeh) (3.0.3)\n",
      "Requirement already satisfied: pillow>=7.1.0 in /opt/anaconda3/lib/python3.8/site-packages (from bokeh) (8.2.0)\n",
      "Requirement already satisfied: MarkupSafe>=2.0 in /opt/anaconda3/lib/python3.8/site-packages (from Jinja2>=2.9->bokeh) (2.0.1)\n",
      "Requirement already satisfied: pyparsing>=2.0.2 in /opt/anaconda3/lib/python3.8/site-packages (from packaging>=16.8->bokeh) (2.4.7)\n",
      "Requirement already satisfied: six>=1.5 in /opt/anaconda3/lib/python3.8/site-packages (from python-dateutil>=2.1->bokeh) (1.15.0)\n"
     ]
    }
   ],
   "source": [
    "# !pip3 install pyvis\n",
    "!pip3 install bokeh\n",
    "!pip3 install pandas\n",
    "!pip3 install tqdm\n",
    "!pip3 install networkx\n",
    "!pip3 install requests\n",
    "!pip3 install matplotlib"
   ]
  },
  {
   "cell_type": "code",
   "execution_count": 122,
   "metadata": {},
   "outputs": [
    {
     "data": {
      "text/html": [
       "<div class=\"bk-root\">\n",
       "        <a href=\"https://bokeh.org\" target=\"_blank\" class=\"bk-logo bk-logo-small bk-logo-notebook\"></a>\n",
       "        <span id=\"7536\">Loading BokehJS ...</span>\n",
       "    </div>"
      ]
     },
     "metadata": {},
     "output_type": "display_data"
    },
    {
     "data": {
      "application/javascript": [
       "(function(root) {\n",
       "  function now() {\n",
       "    return new Date();\n",
       "  }\n",
       "\n",
       "  const force = true;\n",
       "\n",
       "  if (typeof root._bokeh_onload_callbacks === \"undefined\" || force === true) {\n",
       "    root._bokeh_onload_callbacks = [];\n",
       "    root._bokeh_is_loading = undefined;\n",
       "  }\n",
       "\n",
       "const JS_MIME_TYPE = 'application/javascript';\n",
       "  const HTML_MIME_TYPE = 'text/html';\n",
       "  const EXEC_MIME_TYPE = 'application/vnd.bokehjs_exec.v0+json';\n",
       "  const CLASS_NAME = 'output_bokeh rendered_html';\n",
       "\n",
       "  /**\n",
       "   * Render data to the DOM node\n",
       "   */\n",
       "  function render(props, node) {\n",
       "    const script = document.createElement(\"script\");\n",
       "    node.appendChild(script);\n",
       "  }\n",
       "\n",
       "  /**\n",
       "   * Handle when an output is cleared or removed\n",
       "   */\n",
       "  function handleClearOutput(event, handle) {\n",
       "    const cell = handle.cell;\n",
       "\n",
       "    const id = cell.output_area._bokeh_element_id;\n",
       "    const server_id = cell.output_area._bokeh_server_id;\n",
       "    // Clean up Bokeh references\n",
       "    if (id != null && id in Bokeh.index) {\n",
       "      Bokeh.index[id].model.document.clear();\n",
       "      delete Bokeh.index[id];\n",
       "    }\n",
       "\n",
       "    if (server_id !== undefined) {\n",
       "      // Clean up Bokeh references\n",
       "      const cmd_clean = \"from bokeh.io.state import curstate; print(curstate().uuid_to_server['\" + server_id + \"'].get_sessions()[0].document.roots[0]._id)\";\n",
       "      cell.notebook.kernel.execute(cmd_clean, {\n",
       "        iopub: {\n",
       "          output: function(msg) {\n",
       "            const id = msg.content.text.trim();\n",
       "            if (id in Bokeh.index) {\n",
       "              Bokeh.index[id].model.document.clear();\n",
       "              delete Bokeh.index[id];\n",
       "            }\n",
       "          }\n",
       "        }\n",
       "      });\n",
       "      // Destroy server and session\n",
       "      const cmd_destroy = \"import bokeh.io.notebook as ion; ion.destroy_server('\" + server_id + \"')\";\n",
       "      cell.notebook.kernel.execute(cmd_destroy);\n",
       "    }\n",
       "  }\n",
       "\n",
       "  /**\n",
       "   * Handle when a new output is added\n",
       "   */\n",
       "  function handleAddOutput(event, handle) {\n",
       "    const output_area = handle.output_area;\n",
       "    const output = handle.output;\n",
       "\n",
       "    // limit handleAddOutput to display_data with EXEC_MIME_TYPE content only\n",
       "    if ((output.output_type != \"display_data\") || (!Object.prototype.hasOwnProperty.call(output.data, EXEC_MIME_TYPE))) {\n",
       "      return\n",
       "    }\n",
       "\n",
       "    const toinsert = output_area.element.find(\".\" + CLASS_NAME.split(' ')[0]);\n",
       "\n",
       "    if (output.metadata[EXEC_MIME_TYPE][\"id\"] !== undefined) {\n",
       "      toinsert[toinsert.length - 1].firstChild.textContent = output.data[JS_MIME_TYPE];\n",
       "      // store reference to embed id on output_area\n",
       "      output_area._bokeh_element_id = output.metadata[EXEC_MIME_TYPE][\"id\"];\n",
       "    }\n",
       "    if (output.metadata[EXEC_MIME_TYPE][\"server_id\"] !== undefined) {\n",
       "      const bk_div = document.createElement(\"div\");\n",
       "      bk_div.innerHTML = output.data[HTML_MIME_TYPE];\n",
       "      const script_attrs = bk_div.children[0].attributes;\n",
       "      for (let i = 0; i < script_attrs.length; i++) {\n",
       "        toinsert[toinsert.length - 1].firstChild.setAttribute(script_attrs[i].name, script_attrs[i].value);\n",
       "        toinsert[toinsert.length - 1].firstChild.textContent = bk_div.children[0].textContent\n",
       "      }\n",
       "      // store reference to server id on output_area\n",
       "      output_area._bokeh_server_id = output.metadata[EXEC_MIME_TYPE][\"server_id\"];\n",
       "    }\n",
       "  }\n",
       "\n",
       "  function register_renderer(events, OutputArea) {\n",
       "\n",
       "    function append_mime(data, metadata, element) {\n",
       "      // create a DOM node to render to\n",
       "      const toinsert = this.create_output_subarea(\n",
       "        metadata,\n",
       "        CLASS_NAME,\n",
       "        EXEC_MIME_TYPE\n",
       "      );\n",
       "      this.keyboard_manager.register_events(toinsert);\n",
       "      // Render to node\n",
       "      const props = {data: data, metadata: metadata[EXEC_MIME_TYPE]};\n",
       "      render(props, toinsert[toinsert.length - 1]);\n",
       "      element.append(toinsert);\n",
       "      return toinsert\n",
       "    }\n",
       "\n",
       "    /* Handle when an output is cleared or removed */\n",
       "    events.on('clear_output.CodeCell', handleClearOutput);\n",
       "    events.on('delete.Cell', handleClearOutput);\n",
       "\n",
       "    /* Handle when a new output is added */\n",
       "    events.on('output_added.OutputArea', handleAddOutput);\n",
       "\n",
       "    /**\n",
       "     * Register the mime type and append_mime function with output_area\n",
       "     */\n",
       "    OutputArea.prototype.register_mime_type(EXEC_MIME_TYPE, append_mime, {\n",
       "      /* Is output safe? */\n",
       "      safe: true,\n",
       "      /* Index of renderer in `output_area.display_order` */\n",
       "      index: 0\n",
       "    });\n",
       "  }\n",
       "\n",
       "  // register the mime type if in Jupyter Notebook environment and previously unregistered\n",
       "  if (root.Jupyter !== undefined) {\n",
       "    const events = require('base/js/events');\n",
       "    const OutputArea = require('notebook/js/outputarea').OutputArea;\n",
       "\n",
       "    if (OutputArea.prototype.mime_types().indexOf(EXEC_MIME_TYPE) == -1) {\n",
       "      register_renderer(events, OutputArea);\n",
       "    }\n",
       "  }\n",
       "  if (typeof (root._bokeh_timeout) === \"undefined\" || force === true) {\n",
       "    root._bokeh_timeout = Date.now() + 5000;\n",
       "    root._bokeh_failed_load = false;\n",
       "  }\n",
       "\n",
       "  const NB_LOAD_WARNING = {'data': {'text/html':\n",
       "     \"<div style='background-color: #fdd'>\\n\"+\n",
       "     \"<p>\\n\"+\n",
       "     \"BokehJS does not appear to have successfully loaded. If loading BokehJS from CDN, this \\n\"+\n",
       "     \"may be due to a slow or bad network connection. Possible fixes:\\n\"+\n",
       "     \"</p>\\n\"+\n",
       "     \"<ul>\\n\"+\n",
       "     \"<li>re-rerun `output_notebook()` to attempt to load from CDN again, or</li>\\n\"+\n",
       "     \"<li>use INLINE resources instead, as so:</li>\\n\"+\n",
       "     \"</ul>\\n\"+\n",
       "     \"<code>\\n\"+\n",
       "     \"from bokeh.resources import INLINE\\n\"+\n",
       "     \"output_notebook(resources=INLINE)\\n\"+\n",
       "     \"</code>\\n\"+\n",
       "     \"</div>\"}};\n",
       "\n",
       "  function display_loaded() {\n",
       "    var el = document.getElementById(\"7536\");\n",
       "    if (el != null) {\n",
       "      el.textContent = \"BokehJS is loading...\";\n",
       "    }\n",
       "    if (root.Bokeh !== undefined) {\n",
       "      if (el != null) {\n",
       "        el.textContent = \"BokehJS \" + root.Bokeh.version + \" successfully loaded.\";\n",
       "      }\n",
       "    } else if (Date.now() < root._bokeh_timeout) {\n",
       "      setTimeout(display_loaded, 100)\n",
       "    }\n",
       "  }\n",
       "\n",
       "  function run_callbacks() {\n",
       "    try {\n",
       "      root._bokeh_onload_callbacks.forEach(function(callback) {\n",
       "        if (callback != null)\n",
       "          callback();\n",
       "      });\n",
       "    } finally {\n",
       "      delete root._bokeh_onload_callbacks\n",
       "    }\n",
       "    console.debug(\"Bokeh: all callbacks have finished\");\n",
       "  }\n",
       "\n",
       "  function load_libs(css_urls, js_urls, callback) {\n",
       "    if (css_urls == null) css_urls = [];\n",
       "    if (js_urls == null) js_urls = [];\n",
       "\n",
       "    root._bokeh_onload_callbacks.push(callback);\n",
       "    if (root._bokeh_is_loading > 0) {\n",
       "      console.debug(\"Bokeh: BokehJS is being loaded, scheduling callback at\", now());\n",
       "      return null;\n",
       "    }\n",
       "    if (js_urls == null || js_urls.length === 0) {\n",
       "      run_callbacks();\n",
       "      return null;\n",
       "    }\n",
       "    console.debug(\"Bokeh: BokehJS not loaded, scheduling load and callback at\", now());\n",
       "    root._bokeh_is_loading = css_urls.length + js_urls.length;\n",
       "\n",
       "    function on_load() {\n",
       "      root._bokeh_is_loading--;\n",
       "      if (root._bokeh_is_loading === 0) {\n",
       "        console.debug(\"Bokeh: all BokehJS libraries/stylesheets loaded\");\n",
       "        run_callbacks()\n",
       "      }\n",
       "    }\n",
       "\n",
       "    function on_error(url) {\n",
       "      console.error(\"failed to load \" + url);\n",
       "    }\n",
       "\n",
       "    for (let i = 0; i < css_urls.length; i++) {\n",
       "      const url = css_urls[i];\n",
       "      const element = document.createElement(\"link\");\n",
       "      element.onload = on_load;\n",
       "      element.onerror = on_error.bind(null, url);\n",
       "      element.rel = \"stylesheet\";\n",
       "      element.type = \"text/css\";\n",
       "      element.href = url;\n",
       "      console.debug(\"Bokeh: injecting link tag for BokehJS stylesheet: \", url);\n",
       "      document.body.appendChild(element);\n",
       "    }\n",
       "\n",
       "    for (let i = 0; i < js_urls.length; i++) {\n",
       "      const url = js_urls[i];\n",
       "      const element = document.createElement('script');\n",
       "      element.onload = on_load;\n",
       "      element.onerror = on_error.bind(null, url);\n",
       "      element.async = false;\n",
       "      element.src = url;\n",
       "      console.debug(\"Bokeh: injecting script tag for BokehJS library: \", url);\n",
       "      document.head.appendChild(element);\n",
       "    }\n",
       "  };\n",
       "\n",
       "  function inject_raw_css(css) {\n",
       "    const element = document.createElement(\"style\");\n",
       "    element.appendChild(document.createTextNode(css));\n",
       "    document.body.appendChild(element);\n",
       "  }\n",
       "\n",
       "  const js_urls = [\"https://cdn.bokeh.org/bokeh/release/bokeh-2.4.3.min.js\", \"https://cdn.bokeh.org/bokeh/release/bokeh-gl-2.4.3.min.js\", \"https://cdn.bokeh.org/bokeh/release/bokeh-widgets-2.4.3.min.js\", \"https://cdn.bokeh.org/bokeh/release/bokeh-tables-2.4.3.min.js\", \"https://cdn.bokeh.org/bokeh/release/bokeh-mathjax-2.4.3.min.js\"];\n",
       "  const css_urls = [];\n",
       "\n",
       "  const inline_js = [    function(Bokeh) {\n",
       "      Bokeh.set_log_level(\"info\");\n",
       "    },\n",
       "function(Bokeh) {\n",
       "    }\n",
       "  ];\n",
       "\n",
       "  function run_inline_js() {\n",
       "    if (root.Bokeh !== undefined || force === true) {\n",
       "          for (let i = 0; i < inline_js.length; i++) {\n",
       "      inline_js[i].call(root, root.Bokeh);\n",
       "    }\n",
       "if (force === true) {\n",
       "        display_loaded();\n",
       "      }} else if (Date.now() < root._bokeh_timeout) {\n",
       "      setTimeout(run_inline_js, 100);\n",
       "    } else if (!root._bokeh_failed_load) {\n",
       "      console.log(\"Bokeh: BokehJS failed to load within specified timeout.\");\n",
       "      root._bokeh_failed_load = true;\n",
       "    } else if (force !== true) {\n",
       "      var cell = $(document.getElementById(\"7536\")).parents('.cell').data().cell;\n",
       "      cell.output_area.append_execute_result(NB_LOAD_WARNING)\n",
       "    }\n",
       "  }\n",
       "\n",
       "  if (root._bokeh_is_loading === 0) {\n",
       "    console.debug(\"Bokeh: BokehJS loaded, going straight to plotting\");\n",
       "    run_inline_js();\n",
       "  } else {\n",
       "    load_libs(css_urls, js_urls, function() {\n",
       "      console.debug(\"Bokeh: BokehJS plotting callback run at\", now());\n",
       "      run_inline_js();\n",
       "    });\n",
       "  }\n",
       "}(window));"
      ],
      "application/vnd.bokehjs_load.v0+json": "\n(function(root) {\n  function now() {\n    return new Date();\n  }\n\n  var force = true;\n\n  if (typeof root._bokeh_onload_callbacks === \"undefined\" || force === true) {\n    root._bokeh_onload_callbacks = [];\n    root._bokeh_is_loading = undefined;\n  }\n\n  \n\n  \n  if (typeof (root._bokeh_timeout) === \"undefined\" || force === true) {\n    root._bokeh_timeout = Date.now() + 5000;\n    root._bokeh_failed_load = false;\n  }\n\n  var NB_LOAD_WARNING = {'data': {'text/html':\n     \"<div style='background-color: #fdd'>\\n\"+\n     \"<p>\\n\"+\n     \"BokehJS does not appear to have successfully loaded. If loading BokehJS from CDN, this \\n\"+\n     \"may be due to a slow or bad network connection. Possible fixes:\\n\"+\n     \"</p>\\n\"+\n     \"<ul>\\n\"+\n     \"<li>re-rerun `output_notebook()` to attempt to load from CDN again, or</li>\\n\"+\n     \"<li>use INLINE resources instead, as so:</li>\\n\"+\n     \"</ul>\\n\"+\n     \"<code>\\n\"+\n     \"from bokeh.resources import INLINE\\n\"+\n     \"output_notebook(resources=INLINE)\\n\"+\n     \"</code>\\n\"+\n     \"</div>\"}};\n\n  function display_loaded() {\n    var el = document.getElementById(\"7536\");\n    if (el != null) {\n      el.textContent = \"BokehJS is loading...\";\n    }\n    if (root.Bokeh !== undefined) {\n      if (el != null) {\n        el.textContent = \"BokehJS \" + root.Bokeh.version + \" successfully loaded.\";\n      }\n    } else if (Date.now() < root._bokeh_timeout) {\n      setTimeout(display_loaded, 100)\n    }\n  }\n\n\n  function run_callbacks() {\n    try {\n      root._bokeh_onload_callbacks.forEach(function(callback) {\n        if (callback != null)\n          callback();\n      });\n    } finally {\n      delete root._bokeh_onload_callbacks\n    }\n    console.debug(\"Bokeh: all callbacks have finished\");\n  }\n\n  function load_libs(css_urls, js_urls, callback) {\n    if (css_urls == null) css_urls = [];\n    if (js_urls == null) js_urls = [];\n\n    root._bokeh_onload_callbacks.push(callback);\n    if (root._bokeh_is_loading > 0) {\n      console.debug(\"Bokeh: BokehJS is being loaded, scheduling callback at\", now());\n      return null;\n    }\n    if (js_urls == null || js_urls.length === 0) {\n      run_callbacks();\n      return null;\n    }\n    console.debug(\"Bokeh: BokehJS not loaded, scheduling load and callback at\", now());\n    root._bokeh_is_loading = css_urls.length + js_urls.length;\n\n    function on_load() {\n      root._bokeh_is_loading--;\n      if (root._bokeh_is_loading === 0) {\n        console.debug(\"Bokeh: all BokehJS libraries/stylesheets loaded\");\n        run_callbacks()\n      }\n    }\n\n    function on_error(url) {\n      console.error(\"failed to load \" + url);\n    }\n\n    for (let i = 0; i < css_urls.length; i++) {\n      const url = css_urls[i];\n      const element = document.createElement(\"link\");\n      element.onload = on_load;\n      element.onerror = on_error.bind(null, url);\n      element.rel = \"stylesheet\";\n      element.type = \"text/css\";\n      element.href = url;\n      console.debug(\"Bokeh: injecting link tag for BokehJS stylesheet: \", url);\n      document.body.appendChild(element);\n    }\n\n    const hashes = {\"https://cdn.bokeh.org/bokeh/release/bokeh-2.3.2.min.js\": \"XypntL49z55iwGVUW4qsEu83zKL3XEcz0MjuGOQ9SlaaQ68X/g+k1FcioZi7oQAc\", \"https://cdn.bokeh.org/bokeh/release/bokeh-tables-2.3.2.min.js\": \"bEsM86IHGDTLCS0Zod8a8WM6Y4+lafAL/eSiyQcuPzinmWNgNO2/olUF0Z2Dkn5i\", \"https://cdn.bokeh.org/bokeh/release/bokeh-widgets-2.3.2.min.js\": \"TX0gSQTdXTTeScqxj6PVQxTiRW8DOoGVwinyi1D3kxv7wuxQ02XkOxv0xwiypcAH\"};\n\n    for (let i = 0; i < js_urls.length; i++) {\n      const url = js_urls[i];\n      const element = document.createElement('script');\n      element.onload = on_load;\n      element.onerror = on_error.bind(null, url);\n      element.async = false;\n      element.src = url;\n      if (url in hashes) {\n        element.crossOrigin = \"anonymous\";\n        element.integrity = \"sha384-\" + hashes[url];\n      }\n      console.debug(\"Bokeh: injecting script tag for BokehJS library: \", url);\n      document.head.appendChild(element);\n    }\n  };\n\n  function inject_raw_css(css) {\n    const element = document.createElement(\"style\");\n    element.appendChild(document.createTextNode(css));\n    document.body.appendChild(element);\n  }\n\n  \n  var js_urls = [\"https://cdn.bokeh.org/bokeh/release/bokeh-2.3.2.min.js\", \"https://cdn.bokeh.org/bokeh/release/bokeh-widgets-2.3.2.min.js\", \"https://cdn.bokeh.org/bokeh/release/bokeh-tables-2.3.2.min.js\"];\n  var css_urls = [];\n  \n\n  var inline_js = [\n    function(Bokeh) {\n      Bokeh.set_log_level(\"info\");\n    },\n    function(Bokeh) {\n    \n    \n    }\n  ];\n\n  function run_inline_js() {\n    \n    if (root.Bokeh !== undefined || force === true) {\n      \n    for (var i = 0; i < inline_js.length; i++) {\n      inline_js[i].call(root, root.Bokeh);\n    }\n    if (force === true) {\n        display_loaded();\n      }} else if (Date.now() < root._bokeh_timeout) {\n      setTimeout(run_inline_js, 100);\n    } else if (!root._bokeh_failed_load) {\n      console.log(\"Bokeh: BokehJS failed to load within specified timeout.\");\n      root._bokeh_failed_load = true;\n    } else if (force !== true) {\n      var cell = $(document.getElementById(\"7536\")).parents('.cell').data().cell;\n      cell.output_area.append_execute_result(NB_LOAD_WARNING)\n    }\n\n  }\n\n  if (root._bokeh_is_loading === 0) {\n    console.debug(\"Bokeh: BokehJS loaded, going straight to plotting\");\n    run_inline_js();\n  } else {\n    load_libs(css_urls, js_urls, function() {\n      console.debug(\"Bokeh: BokehJS plotting callback run at\", now());\n      run_inline_js();\n    });\n  }\n}(window));"
     },
     "metadata": {},
     "output_type": "display_data"
    }
   ],
   "source": [
    "import pandas as pd\n",
    "from tqdm import tqdm\n",
    "import numpy as np\n",
    "import re\n",
    "import html\n",
    "from urllib import parse\n",
    "import requests\n",
    "import networkx\n",
    "from bokeh.io import output_notebook, show, save\n",
    "output_notebook()\n",
    "# from pyvis.network import Network"
   ]
  },
  {
   "cell_type": "code",
   "execution_count": 123,
   "metadata": {},
   "outputs": [],
   "source": [
    "from bokeh.io import output_notebook, show, save\n",
    "from bokeh.models import Range1d, Circle, ColumnDataSource, MultiLine\n",
    "from bokeh.plotting import figure\n",
    "from bokeh.plotting import from_networkx"
   ]
  },
  {
   "cell_type": "code",
   "execution_count": 124,
   "metadata": {},
   "outputs": [],
   "source": [
    "from utils import *"
   ]
  },
  {
   "cell_type": "code",
   "execution_count": 125,
   "metadata": {},
   "outputs": [],
   "source": [
    "node_attributes = ['user_id', 'public', 'completion_percentage', 'gender', 'region', 'last_login', 'registration', 'AGE', 'body', 'I_am_working_in_field', 'spoken_languages', 'hobbies', 'I_most_enjoy_good_food', 'pets', 'body_type', 'my_eyesight', 'eye_color', 'hair_color', 'hair_type', 'completed_level_of_education', 'favourite_color', 'relation_to_smoking', 'relation_to_alcohol', 'sign_in_zodiac', 'on_pokec_i_am_looking_for', 'love_is_for_me', 'relation_to_casual_sex', 'my_partner_should_be', 'marital_status', 'children', 'relation_to_children', 'I_like_movies', 'I_like_watching_movie', 'I_like_music', 'I_mostly_like_listening_to_music', 'the_idea_of_good_evening', 'I_like_specialties_from_kitchen', 'fun', 'I_am_going_to_concerts', 'my_active_sports', 'my_passive_sports', 'profession', 'I_like_books', 'life_style', 'music', 'cars', 'politics', 'relationships', 'art_culture', 'hobbies_interests', 'science_technologies', 'computers_internet', 'education', 'sport', 'movies', 'travelling', 'health', 'companies_brands', 'more']"
   ]
  },
  {
   "cell_type": "code",
   "execution_count": 126,
   "metadata": {},
   "outputs": [],
   "source": [
    "vis_attributes = ['user_id', 'public', 'completion_percentage', 'gender', 'region', 'last_login', 'registration', 'AGE', 'body', 'I_am_working_in_field', 'spoken_languages', 'hobbies']"
   ]
  },
  {
   "cell_type": "code",
   "execution_count": 127,
   "metadata": {},
   "outputs": [],
   "source": [
    "def load_from_csv(path):\n",
    "    df = pd.read_csv(path)\n",
    "    return df\n",
    "\n",
    "def row_to_dict(row, attr):\n",
    "    data = {}\n",
    "    for a in attr:\n",
    "        data[a] = row[a]\n",
    "    return data"
   ]
  },
  {
   "cell_type": "code",
   "execution_count": 128,
   "metadata": {},
   "outputs": [],
   "source": [
    "def load_missing():\n",
    "    with open('./missing_users.txt') as f:\n",
    "        lines = f.readlines()\n",
    "    lst = [int(l.replace('\\n', '')) for l in lines]\n",
    "    return lst\n",
    "\n",
    "missing = load_missing()"
   ]
  },
  {
   "cell_type": "code",
   "execution_count": 129,
   "metadata": {},
   "outputs": [],
   "source": [
    "df = pd.read_csv('./toy_example_500.csv')\n",
    "net = create_network(df, vis_attributes, 50, missing)"
   ]
  },
  {
   "cell_type": "code",
   "execution_count": 130,
   "metadata": {},
   "outputs": [
    {
     "name": "stdout",
     "output_type": "stream",
     "text": [
      "[1, 13, 11, 6, 3, 4, 5, 15, 14, 7, 8, 12, 9, 10, 16, 2, 18, 19, 20, 21, 22, 23, 24, 25, 26, 27, 28, 29, 30, 31, 32, 33, 34, 35, 36, 37, 38, 39, 40, 41, 42, 43, 44, 45, 46, 47, 48, 49, 50, 17]\n"
     ]
    },
    {
     "data": {
      "text/plain": [
       "{'user_id': 31,\n",
       " 'public': 1,\n",
       " 'completion_percentage': 62,\n",
       " 'gender': 1,\n",
       " 'region': 'Zilina Region, Kysucke New Town',\n",
       " 'last_login': '2012-02-18 13:20:00.0',\n",
       " 'registration': '2007-01-01 00:00:00.0',\n",
       " 'AGE': 24,\n",
       " 'body': '170 cm, 75 kg',\n",
       " 'I_am_working_in_field': nan,\n",
       " 'spoken_languages': 'German, Slovak, Czech, but preferably your own',\n",
       " 'hobbies': 'playing sports, hiking, working around the house, working with a computer, cooking, friends, sleeping, sex, camping, .............'}"
      ]
     },
     "execution_count": 130,
     "metadata": {},
     "output_type": "execute_result"
    }
   ],
   "source": [
    "print(net.nodes) # node id\n",
    "net.nodes[31]"
   ]
  },
  {
   "cell_type": "code",
   "execution_count": 131,
   "metadata": {},
   "outputs": [
    {
     "data": {
      "text/html": [
       "\n",
       "\n",
       "\n",
       "\n",
       "\n",
       "\n",
       "  <div class=\"bk-root\" id=\"9567645f-c15a-45b2-8e36-9e35b75154be\" data-root-id=\"7539\"></div>\n"
      ]
     },
     "metadata": {},
     "output_type": "display_data"
    },
    {
     "data": {
      "application/javascript": [
       "(function(root) {\n",
       "  function embed_document(root) {\n",
       "    \n",
       "  var docs_json = {\"8a4ec874-2a8f-4e72-93fd-9472ac69c15b\":{\"defs\":[],\"roots\":{\"references\":[{\"attributes\":{\"below\":[{\"id\":\"7548\"}],\"center\":[{\"id\":\"7551\"},{\"id\":\"7555\"}],\"left\":[{\"id\":\"7552\"}],\"renderers\":[{\"id\":\"7567\"}],\"title\":{\"id\":\"7540\"},\"toolbar\":{\"id\":\"7561\"},\"x_range\":{\"id\":\"7537\"},\"x_scale\":{\"id\":\"7544\"},\"y_range\":{\"id\":\"7538\"},\"y_scale\":{\"id\":\"7546\"}},\"id\":\"7539\",\"subtype\":\"Figure\",\"type\":\"Plot\"},{\"attributes\":{\"formatter\":{\"id\":\"7853\"},\"major_label_policy\":{\"id\":\"7855\"},\"ticker\":{\"id\":\"7553\"}},\"id\":\"7552\",\"type\":\"LinearAxis\"},{\"attributes\":{},\"id\":\"7557\",\"type\":\"WheelZoomTool\"},{\"attributes\":{\"source\":{\"id\":\"7573\"}},\"id\":\"7575\",\"type\":\"CDSView\"},{\"attributes\":{},\"id\":\"7858\",\"type\":\"Selection\"},{\"attributes\":{\"callback\":null,\"tooltips\":[[\"user_id\",\"@user_id\"],[\"public\",\"@public\"],[\"completion_percentage\",\"@completion_percentage\"],[\"gender\",\"@gender\"],[\"region\",\"@region\"],[\"last_login\",\"@last_login\"],[\"registration\",\"@registration\"],[\"AGE\",\"@AGE\"],[\"body\",\"@body\"],[\"I_am_working_in_field\",\"@I_am_working_in_field\"],[\"spoken_languages\",\"@spoken_languages\"],[\"hobbies\",\"@hobbies\"]]},\"id\":\"7560\",\"type\":\"HoverTool\"},{\"attributes\":{\"data_source\":{\"id\":\"7573\"},\"glyph\":{\"id\":\"7582\"},\"hover_glyph\":null,\"muted_glyph\":null,\"view\":{\"id\":\"7575\"}},\"id\":\"7574\",\"type\":\"GlyphRenderer\"},{\"attributes\":{},\"id\":\"7559\",\"type\":\"ResetTool\"},{\"attributes\":{},\"id\":\"7859\",\"type\":\"UnionRenderers\"},{\"attributes\":{},\"id\":\"7556\",\"type\":\"PanTool\"},{\"attributes\":{\"text\":\"Testing Network\"},\"id\":\"7540\",\"type\":\"Title\"},{\"attributes\":{},\"id\":\"7850\",\"type\":\"BasicTickFormatter\"},{\"attributes\":{},\"id\":\"7852\",\"type\":\"AllLabels\"},{\"attributes\":{},\"id\":\"7853\",\"type\":\"BasicTickFormatter\"},{\"attributes\":{},\"id\":\"7546\",\"type\":\"LinearScale\"},{\"attributes\":{},\"id\":\"7558\",\"type\":\"SaveTool\"},{\"attributes\":{\"end\":10.1,\"start\":-10.1},\"id\":\"7538\",\"type\":\"Range1d\"},{\"attributes\":{\"end\":10.1,\"start\":-10.1},\"id\":\"7537\",\"type\":\"Range1d\"},{\"attributes\":{\"graph_layout\":{\"1\":[5.214445703042442,-3.094470581584146],\"10\":[6.591992284787243,0.37743141475030106],\"11\":[5.115355193537983,-6.717814911993539],\"12\":[7.20352156891564,-6.367123079599441],\"13\":[4.126983859446826,-5.370993912252465],\"14\":[8.55930133481223,-3.8184776877122326],\"15\":[8.658704922766733,-4.833469284061974],\"16\":[1.5720564392010115,-0.6188172741812599],\"17\":[10.0,1.416921761368117],\"18\":[-3.576942287339682,1.1262658460740766],\"19\":[-5.95381879141874,4.280296614824744],\"2\":[-2.4248951522059237,1.385168347399221],\"20\":[-1.0411847667633598,5.642415959127829],\"21\":[-0.13367087928802027,-1.7395277477082325],\"22\":[-3.4501866228546567,2.295194324168494],\"23\":[-0.6756445398801303,3.0675196016655804],\"24\":[-5.596946155596281,-0.44616062115253025],\"25\":[-2.049809785413556,-1.4769805333612758],\"26\":[-4.804479204736725,4.110219533886758],\"27\":[-6.877650600192271,2.224737595975231],\"28\":[-2.1883577201033693,5.069251566216852],\"29\":[-2.555077278075618,2.452280361739516],\"3\":[8.302135203018906,-2.4020202999672233],\"30\":[-4.416845822036639,-0.8962496066154725],\"31\":[1.0923965200552197,1.7429822719164623],\"32\":[-5.522816300565332,-1.485541106203596],\"33\":[2.6185529170320083,1.3139895175932708],\"34\":[-2.8728831783951896,-2.29679330235205],\"35\":[-2.919413767187139,5.863604690420348],\"36\":[-6.680991691010412,0.2545292882592609],\"37\":[-3.7250006881632016,-1.8929813679317196],\"38\":[0.7090348429345976,3.2556768640827385],\"39\":[-0.7488798777087132,4.683316995962899],\"4\":[7.036376544672912,-4.817521936922661],\"40\":[-2.222705424718506,0.05586742980508986],\"41\":[-0.5825306186266969,1.3373689720094288],\"42\":[-6.765785166155979,-0.7590936487248181],\"43\":[-4.4542547519643065,1.3680726689981269],\"44\":[-3.717906230451299,5.127395663636671],\"45\":[0.49447462764833056,4.399781098062594],\"46\":[-4.784577061566507,0.21442163139189424],\"47\":[-5.457512002825927,1.0500601617137089],\"48\":[-4.269838598524037,-2.8343864508970484],\"49\":[-6.294175023572355,3.2182303094482747],\"5\":[9.269014080571747,-2.957854355412201],\"50\":[-4.8412321599081505,5.275835129795249],\"6\":[8.18321422682318,-5.821180897220902],\"7\":[2.706759937088592,-3.9335404729214094],\"8\":[6.2063734405582895,-6.655550931864095],\"9\":[7.945318500334796,-1.3722856096524583]}},\"id\":\"7576\",\"type\":\"StaticLayoutProvider\"},{\"attributes\":{},\"id\":\"7855\",\"type\":\"AllLabels\"},{\"attributes\":{\"data\":{\"AGE\":[26,0,22,38,29,26,26,26,0,22,26,26,0,22,23,0,18,21,20,17,19,0,26,20,21,23,19,19,21,24,21,22,23,21,28,20,22,18,0,16,22,19,0,21,21,19,0,23,0,27],\"I_am_working_in_field\":[\"it\",\"economy and finance\",\"NaN\",\"NaN\",\"advertising and media, services and trade\",\"NaN\",\"I am unemployed\",\"NaN\",\"NaN\",\"NaN\",\"NaN\",\"I am studying\",\"NaN\",\"NaN\",\"the biggest company in the world is the labor office\",\"NaN\",\"NaN\",\"sexual\",\"NaN\",\"NaN\",\"NaN\",\"NaN\",\"NaN\",\"I am studying\",\"NaN\",\"construction industry, I'm on the roof like a sparrow :))\",\"electrical engineering, I study, computer engineering\",\"I just go to school for now and see you later\",\"NaN\",\"NaN\",\"ina kysuce forever....inductors and so on... :) :) :)\",\"engineering and energy\",\"so you don't even want to know, it's like life\",\"NaN\",\"NaN\",\"of transport\",\"NaN\",\"NaN\",\"NaN\",\"NaN\",\"I am studying\",\"NaN\",\"NaN\",\"technical administration\",\"services and trade, hairdressing\",\"I am studying\",\"I am studying\",\"gastronomy\",\"agriculture\",\"NaN\"],\"body\":[\"185 cm, 90 kg\",\"NaN\",\"NaN\",\"160 cm, 57 kg\",\"NaN\",\"NaN\",\"NaN\",\"179 cm, 70 kg\",\"168 cm\",\"NaN\",\"NaN\",\"185 cm, 94 kg, I try to work on her in the gym..\",\"NaN\",\"170 cm\",\"173 cm, 70 kg\",\"166 cm, 58 kg\",\"NaN\",\"0.19 cm, 88 kg\",\"NaN\",\"170 cm, 55 kg\",\"169 cm\",\"NaN\",\"187 cm, 80 kg\",\"40 kg\",\"NaN\",\"explained, I'm satisfied\",\"193 cm\",\"168 cm, 50 kg\",\"NaN\",\"170 cm, 75 kg\",\"185 cm, 73 kg, snake and good...\",\"174 cm, 60 kg\",\"180 cm, 70 kg, pretty skinny, almost like an alien :p\",\"NaN\",\"179 cm, 70 kg\",\"190 cm\",\"NaN\",\"NaN\",\"NaN\",\"145 cm, 36 kg\",\"190 cm, 86 kg\",\"185 cm, 75 kg\",\"183 cm, 97 kg\",\"NaN\",\"170 cm, 50 kg\",\"172 cm, 48 kg, at the moment I'm a little less than my weight, but I'll try to balance it... at least until the end of the year... because I can't even look at myself anymore:dd\",\"197 cm, 75 kg, tie yourself! :(\",\"189 cm, 90 kg\",\"NaN\",\"162 cm, 60 kg\"],\"completion_percentage\":[14,28,45,22,38,12,66,53,41,12,12,67,12,64,64,62,31,64,12,81,28,50,71,74,16,72,71,67,12,62,72,69,66,55,64,78,12,29,22,69,40,55,19,55,69,67,76,64,43,47],\"gender\":[1,0,0,0,1,0,1,1,0,0,1,1,0,0,1,0,1,1,0,0,0,0,1,0,0,1,1,0,1,1,1,1,1,0,1,1,1,1,1,1,1,1,1,0,0,0,1,1,0,0],\"hobbies\":[\"sports, sleeping, cinema, food, listening to music, friends, theatre\",\"NaN\",\"playing sports, traveling, surfing the web, listening to music, watching movies, swimming pool, cinema, parties, friends\",\"NaN\",\"sports, travel\",\"NaN\",\"playing sports, working in the garden, playing PC games, listening to music, watching movies, but I added something extra so that you don't think that I spend all my time in front of the computer\",\"playing sports, working with a PC, surfing the web, watching movies, discos, friends\",\"which I don't have much time for at the moment: reading books, long walks in the mountains, picking mushrooms, traveling - getting to know new countries, hiking, preparing yum yum papanicka...\",\"NaN\",\"NaN\",\"there are a lot of them, if you are interested I will be more than happy to specify them :))\",\"NaN\",\"playing sports, housework, cooking, cinema, parties, friends, camping, ... just anything that makes me have fun...:)\",\"travelling, listening to music, not being bored\",\"hiking, working around the house, working with PC, listening to music, watching movies, dancing, discos, swimming pool, cooking, parties, friends, sleeping, shopping, camping\",\"NaN\",\"sports, travel, hiking, watching movies, discos, cinema, parties, friends, sleeping, sex, camping\",\"NaN\",\"painting, rollerblading, sleeping, lounging, camping, hmm, and most of all, me and iwa will talk at lunch eh, working with a PC, cinema, friends, shopping, parties, swimming pool, PC games, work around the house, housework\",\"listening to music, dancing, discos, food, friends, shopping, I also like to sing for myself :dd\",\":d\",\"traveling, working with PC, PC games, reading, listening to music, collecting, painting, cooking, cinema, camping, going to museums\",\"playing sports, traveling, homework, watching movies, dancing, swimming pool, parties, listening to music, discos, cooking\",\"NaN\",\"ehe, of course the computer, watching movies, sports, exercise, walking the dog and if she was a girl, she would also dream hehe\",\"travel, hiking, working with PC, PC games, surfing the web, listening to music, discos, cooking, food, cinema, friends, sleeping, camping\",\"playing sports, photography, listening to music, watching movies, dancing, discos, cinema, parties, friends, sleeping, shopping\",\"NaN\",\"playing sports, hiking, working around the house, working with a computer, cooking, friends, sleeping, sex, camping, .............\",\"sex, friends, discos, listening to music, watching movies, dancing, swimming pool, camping, parties\",\"well, it's just work.-))))\",\"playing sports, working with PC, PC games, listening to music, watching movies, cinema, friends, sex, martial arts\",\"watching movies, painting, dancing, discos, swimming pool, food, cinema, friends, sleeping, shopping, camping\",\"from every dew a slag\",\"listening to music, eating, sleeping, and anything else I can think of\",\"NaN\",\"NaN\",\"NaN\",\"traveling, housework, working with a PC, PC games, surfing the web, watching movies, discotheques, swimming pool, cinema, parties, friends\",\"NaN\",\"playing sports, traveling, working with PC, PC games, surfing the web, listening to music, watching movies, painting, discos, swimming pool, food, cinema, parties, friends, sleeping, camping\",\"NaN\",\"traveling, reading, listening to music, watching movies, painting, partying, friends, sleeping, sex, camping\",\"photography, travel, surfing the web, reading, listening to music, watching movies, dancing, discos, swimming pool, food, cinema, party, friends, sleeping, shopping, sex, camping\",\"traveling, listening to music, dancing, discos, parties, friends, sleeping\",\"watching movies, dancing, swimming pool, food, parties, sleeping, hiking, working with PC, sex, friends, discos\",\"housework, work around the house, working with PC, PC games, listening to music, discos, swimming pool, cooking, food, friends, sleeping, sex\",\"NaN\",\"reading, listening to music, watching movies, sleeping, shopping\"],\"index\":[1,13,11,6,3,4,5,15,14,7,8,12,9,10,16,2,18,19,20,21,22,23,24,25,26,27,28,29,30,31,32,33,34,35,36,37,38,39,40,41,42,43,44,45,46,47,48,49,50,17],\"last_login\":[\"2012-05-25 11:20:00.0\",\"2012-03-26 16:40:00.0\",\"2012-05-21 16:31:00.0\",\"2012-05-25 20:40:00.0\",\"2012-05-10 18:05:00.0\",\"2011-12-29 12:25:00.0\",\"2012-05-25 01:10:00.0\",\"2012-05-25 17:09:00.0\",\"2012-05-25 23:19:41.0\",\"2012-02-03 15:36:00.0\",\"2012-04-15 11:52:00.0\",\"2012-04-30 16:24:00.0\",\"2012-03-03 16:57:00.0\",\"2012-05-14 21:54:00.0\",\"2012-05-25 23:19:40.0\",\"2012-05-25 23:08:00.0\",\"2012-05-02 21:19:00.0\",\"2012-05-25 19:34:00.0\",\"2012-05-22 12:59:00.0\",\"2012-05-25 23:15:00.0\",\"2012-05-23 14:46:00.0\",\"2012-05-23 19:47:00.0\",\"2012-05-18 20:31:00.0\",\"2012-04-30 19:36:00.0\",\"2012-05-11 22:00:00.0\",\"2012-05-05 13:17:00.0\",\"2012-04-17 21:54:00.0\",\"2012-05-25 16:34:00.0\",\"2012-05-25 15:12:00.0\",\"2012-02-18 13:20:00.0\",\"2012-05-13 22:52:00.0\",\"2012-05-13 11:22:00.0\",\"2012-05-15 09:18:00.0\",\"2012-05-25 08:53:00.0\",\"2011-11-17 16:23:00.0\",\"2012-05-25 23:00:00.0\",\"2012-05-25 22:39:00.0\",\"2012-05-25 22:51:00.0\",\"2012-05-23 15:54:00.0\",\"2012-05-13 21:52:00.0\",\"2012-05-24 17:15:00.0\",\"2012-05-10 14:16:00.0\",\"2012-04-20 18:16:00.0\",\"2012-05-25 22:04:00.0\",\"2011-10-29 03:17:00.0\",\"2012-05-25 15:10:00.0\",\"2012-05-23 22:27:00.0\",\"2012-05-23 22:58:00.0\",\"2012-05-24 18:23:00.0\",\"2012-05-25 09:40:00.0\"],\"public\":[1,1,1,0,0,1,1,0,0,1,0,1,0,1,1,1,1,1,0,0,0,0,1,1,0,1,1,1,1,1,1,0,1,0,1,0,0,0,1,1,1,1,0,0,0,1,1,0,0,1],\"region\":[\"Zilina Region, Zilina\",\"Bansk\\u00e1 Bystrica Region, Brezno\",\"Bansk\\u00e1 Bystrica Region, Brezno\",\"Zilina Region, Zilina\",\"Bratislava Region, Bratislava - Karlova Village\",\"Bansk\\u00e1 Bystrica Region, Brezno\",\"Zilina Region, Zilina\",\"Zilina Region, Zilina\",\"Nitra Region, Nitra\",\"Zilinsky region, Martin\",\"Trencian region, ilava\",\"Bansk\\u00e1 Bystrica Region, Brezno\",\"Bansk\\u00e1 Bystrica Region, Brezno\",\"Zilina Region, Cadca\",\"Zilina Region, Kysucke New Town\",\"Zilina Region, Kysucke New Town\",\"Zilina Region, Kysucke New Town\",\"Zilina Region, Kysucke New Town\",\"Zilina Region, Kysucke New Town\",\"Zilina Region, Cadca\",\"Zilina Region, Kysucke New Town\",\"abroad, abroad - France\",\"Zilina Region, Kysucke New Town\",\"Zilina Region, Kysucke New Town\",\"Zilina Region, Cadca\",\"Zilina Region, Zilina\",\"Zilina Region, Cadca\",\"Zilina Region, Kysucke New Town\",\"Zilina Region, Kysucke New Town\",\"Zilina Region, Kysucke New Town\",\"Zilina Region, Kysucke New Town\",\"Zilina Region, Kysucke New Town\",\"Zilina Region, Zilina\",\"Zilina Region, Kysucke New Town\",\"Zilina Region, Kysucke New Town\",\"Zilina Region, Kysucke New Town\",\"Zilina Region, Zilina\",\"Zilina Region, Zilina\",\"Zilina Region, Kysucke New Town\",\"Zilina Region, Zilina\",\"Zilina Region, Zilina\",\"Zilina Region, Kysucke New Town\",\"Zilina Region, Kysucke New Town\",\"Zilina Region, Cadca\",\"Zilina Region, Kysucke New Town\",\"Zilina Region, Kysucke New Town\",\"abroad, abroad - others\",\"Zilina Region, Kysucke New Town\",\"Zilina Region, Zilina\",\"Zilinsky region, Martin\"],\"registration\":[\"2005-04-03 00:00:00.0\",\"2007-10-24 00:00:00.0\",\"2006-11-11 00:00:00.0\",\"2007-12-15 00:00:00.0\",\"2010-05-23 00:00:00.0\",\"2011-12-29 00:00:00.0\",\"2006-05-29 00:00:00.0\",\"2006-02-10 00:00:00.0\",\"2004-12-08 00:00:00.0\",\"2004-09-10 00:00:00.0\",\"2003-11-26 00:00:00.0\",\"2005-09-21 00:00:00.0\",\"2005-11-30 00:00:00.0\",\"2005-10-07 00:00:00.0\",\"2008-05-18 00:00:00.0\",\"2007-11-30 00:00:00.0\",\"2007-12-13 00:00:00.0\",\"2007-03-23 \\u200b\\u200b00:00:00.0\",\"2008-07-27 00:00:00.0\",\"2007-12-31 00:00:00.0\",\"2007-12-05 00:00:00.0\",\"2007-04-11 00:00:00.0\",\"2007-05-14 00:00:00.0\",\"2008-05-28 00:00:00.0\",\"2007-04-18 00:00:00.0\",\"2008-08-27 00:00:00.0\",\"2007-02-14 00:00:00.0\",\"2007-01-12 00:00:00.0\",\"2008-10-20 00:00:00.0\",\"2007-01-01 00:00:00.0\",\"2008-10-21 00:00:00.0\",\"2008-01-02 00:00:00.0\",\"2007-01-24 00:00:00.0\",\"2008-09-13 00:00:00.0\",\"2008-02-12 00:00:00.0\",\"2008-09-17 00:00:00.0\",\"2008-05-24 00:00:00.0\",\"2007-11-29 00:00:00.0\",\"2008-03-23 \\u200b\\u200b00:00:00.0\",\"2008-03-04 00:00:00.0\",\"2007-11-23 00:00:00.0\",\"2008-04-07 00:00:00.0\",\"2007-10-29 00:00:00.0\",\"2007-11-05 00:00:00.0\",\"2008-03-17 00:00:00.0\",\"2007-11-11 00:00:00.0\",\"2008-03-18 00:00:00.0\",\"2008-03-04 00:00:00.0\",\"2007-08-14 00:00:00.0\",\"2006-10-21 00:00:00.0\"],\"spoken_languages\":[\"English\",\"NaN\",\"English, I don't miss a bit and I also chat a little in French\",\"NaN\",\"English, German\",\"NaN\",\"English, German, Pascal\",\"English, so bad, I'm looking for a tutor for French :-)\",\"NaN\",\"NaN\",\"NaN\",\"English, German\",\"NaN\",\"English, German, ...hands, feet...but I'll negotiate :)\",\"but still yours :d and the best friends\",\"German\",\"English\",\"well, just the own one\",\"NaN\",\"German, and our Slovak about 50&#37;\",\"German\",\"\\u2605 English \\u2605\",\"English, German, French, I only know these languages \\u200b\\u200bso as not to tell:))\",\"English\",\"NaN\",\"sexual, english, slovak so much :_))\",\"English a little, but I also speak Slovak and Estonian\",\"English, German and I can master both 100 percent:d:d\",\"NaN\",\"German, Slovak, Czech, but preferably your own\",\"English and Slovak.....\",\"German\",\"German, French, French but only with practice\",\"German, active passive\",\"it ran around that infinity\",\"English, Hungarian\",\"NaN\",\"NaN\",\"NaN\",\"German\",\"English, German - I can ask for schnitzel and potatoes...:d\",\"English\",\"NaN\",\"English, of course Slovak\",\"German, French :)\",\"English, and of course your own ::dd\",\"English, German, Slovak, quietly and loudly :d\",\"German\",\"English and clearly his own\",\"English, German\"],\"user_id\":[1,13,11,6,3,4,5,15,14,7,8,12,9,10,16,2,18,19,20,21,22,23,24,25,26,27,28,29,30,31,32,33,34,35,36,37,38,39,40,41,42,43,44,45,46,47,48,49,50,17]},\"selected\":{\"id\":\"7856\"},\"selection_policy\":{\"id\":\"7857\"}},\"id\":\"7569\",\"type\":\"ColumnDataSource\"},{\"attributes\":{\"data_source\":{\"id\":\"7569\"},\"glyph\":{\"id\":\"7577\"},\"hover_glyph\":null,\"muted_glyph\":null,\"view\":{\"id\":\"7571\"}},\"id\":\"7570\",\"type\":\"GlyphRenderer\"},{\"attributes\":{},\"id\":\"7553\",\"type\":\"BasicTicker\"},{\"attributes\":{\"formatter\":{\"id\":\"7850\"},\"major_label_policy\":{\"id\":\"7852\"},\"ticker\":{\"id\":\"7549\"}},\"id\":\"7548\",\"type\":\"LinearAxis\"},{\"attributes\":{\"data\":{\"end\":[13,11,6,3,4,5,15,14,7,8,12,9,10,16,2,7,21,33,17,2,41,18,19,20,21,22,23,24,25,26,27,28,29,30,31,32,33,34,35,36,37,38,39,40,41,42,43,44,45,46,47,48,49,50,46,40,22,43,29,40,29,47,41,41,47,46,30,32,37,40,40,47,34,46,33,37,36,43,46],\"start\":[1,1,1,1,1,1,1,1,1,1,1,1,1,1,1,13,7,10,10,16,16,2,2,2,2,2,2,2,2,2,2,2,2,2,2,2,2,2,2,2,2,2,2,2,2,2,2,2,2,2,2,2,2,2,18,18,18,18,18,21,22,22,22,23,24,24,24,24,25,25,29,30,30,30,31,32,32,40,43]},\"selected\":{\"id\":\"7858\"},\"selection_policy\":{\"id\":\"7859\"}},\"id\":\"7573\",\"type\":\"ColumnDataSource\"},{\"attributes\":{\"axis\":{\"id\":\"7548\"},\"ticker\":null},\"id\":\"7551\",\"type\":\"Grid\"},{\"attributes\":{\"active_multi\":null,\"active_scroll\":{\"id\":\"7557\"},\"tools\":[{\"id\":\"7556\"},{\"id\":\"7557\"},{\"id\":\"7558\"},{\"id\":\"7559\"},{\"id\":\"7560\"}]},\"id\":\"7561\",\"type\":\"Toolbar\"},{\"attributes\":{},\"id\":\"7544\",\"type\":\"LinearScale\"},{\"attributes\":{},\"id\":\"7856\",\"type\":\"Selection\"},{\"attributes\":{\"edge_renderer\":{\"id\":\"7574\"},\"inspection_policy\":{\"id\":\"7844\"},\"layout_provider\":{\"id\":\"7576\"},\"node_renderer\":{\"id\":\"7570\"},\"selection_policy\":{\"id\":\"7845\"}},\"id\":\"7567\",\"type\":\"GraphRenderer\"},{\"attributes\":{},\"id\":\"7549\",\"type\":\"BasicTicker\"},{\"attributes\":{\"fill_color\":{\"value\":\"skyblue\"},\"size\":{\"value\":15}},\"id\":\"7577\",\"type\":\"Circle\"},{\"attributes\":{\"source\":{\"id\":\"7569\"}},\"id\":\"7571\",\"type\":\"CDSView\"},{\"attributes\":{\"line_alpha\":{\"value\":0.5}},\"id\":\"7582\",\"type\":\"MultiLine\"},{\"attributes\":{},\"id\":\"7857\",\"type\":\"UnionRenderers\"},{\"attributes\":{},\"id\":\"7845\",\"type\":\"NodesOnly\"},{\"attributes\":{},\"id\":\"7844\",\"type\":\"NodesOnly\"},{\"attributes\":{\"axis\":{\"id\":\"7552\"},\"dimension\":1,\"ticker\":null},\"id\":\"7555\",\"type\":\"Grid\"}],\"root_ids\":[\"7539\"]},\"title\":\"Bokeh Application\",\"version\":\"2.3.2\"}};\n",
       "  var render_items = [{\"docid\":\"8a4ec874-2a8f-4e72-93fd-9472ac69c15b\",\"root_ids\":[\"7539\"],\"roots\":{\"7539\":\"9567645f-c15a-45b2-8e36-9e35b75154be\"}}];\n",
       "  root.Bokeh.embed.embed_items_notebook(docs_json, render_items);\n",
       "  }\n",
       "  if (root.Bokeh !== undefined) {\n",
       "    embed_document(root);\n",
       "  } else {\n",
       "    let attempts = 0;\n",
       "    const timer = setInterval(function(root) {\n",
       "      if (root.Bokeh !== undefined) {\n",
       "        clearInterval(timer);\n",
       "        embed_document(root);\n",
       "      } else {\n",
       "        attempts++;\n",
       "        if (attempts > 100) {\n",
       "          clearInterval(timer);\n",
       "          console.log(\"Bokeh: ERROR: Unable to run BokehJS code because BokehJS library is missing\");\n",
       "        }\n",
       "      }\n",
       "    }, 10, root)\n",
       "  }\n",
       "})(window);"
      ],
      "application/vnd.bokehjs_exec.v0+json": ""
     },
     "metadata": {
      "application/vnd.bokehjs_exec.v0+json": {
       "id": "7539"
      }
     },
     "output_type": "display_data"
    }
   ],
   "source": [
    "title = 'Testing Network'\n",
    "\n",
    "HOVER_TOOLTIPS = [(p, \"@\"+p) for p in vis_attributes]\n",
    "plot = figure(tooltips = HOVER_TOOLTIPS,\n",
    "              tools=\"pan,wheel_zoom,save,reset\", active_scroll='wheel_zoom',\n",
    "            x_range=Range1d(-10.1, 10.1), y_range=Range1d(-10.1, 10.1), title=title)\n",
    "\n",
    "network_graph = from_networkx(g, networkx.spring_layout, scale=10, center=(0, 0))\n",
    "\n",
    "offset = [[], []]\n",
    "\n",
    "# for n in network_graph.nodes():\n",
    "#     x, y = network_graph.nodes[n]['pos']\n",
    "#     offset[0].append(x)\n",
    "#     offset[1].append(y)\n",
    "\n",
    "# for o in offset:\n",
    "  \n",
    "#Set node size and color\n",
    "network_graph.node_renderer.glyph = Circle(size=15, fill_color='skyblue')\n",
    "\n",
    "#Set edge opacity and width\n",
    "network_graph.edge_renderer.glyph = MultiLine(line_alpha=0.5, line_width=1)\n",
    "plot.renderers.append(network_graph)\n",
    "show(plot)"
   ]
  },
  {
   "cell_type": "code",
   "execution_count": 132,
   "metadata": {},
   "outputs": [],
   "source": [
    "import copy\n",
    "def get_subgraph(graph, nodes):\n",
    "\n",
    "    # graph: oroginal graph\n",
    "    # nodes: a list of node indices in subgraph\n",
    "\n",
    "    subgraph = copy.copy(graph)\n",
    "    origin_nodes = graph.nodes\n",
    "    to_remove = [n for n in origin_nodes if n not in nodes]\n",
    "    subgraph.remove_nodes_from(to_remove)\n",
    "    return subgraph"
   ]
  },
  {
   "cell_type": "code",
   "execution_count": 133,
   "metadata": {},
   "outputs": [],
   "source": [
    "top_constraint_qualifers = [1, 2, 4, 5, 7]\n",
    "med_graph = get_subgraph(net, top_constraint_qualifers)\n",
    "\n",
    "# subgraph = networkx.induced_subgraph(net, top_constraint_qualifers)\n",
    "# print(med_graph.nodes())\n"
   ]
  },
  {
   "cell_type": "code",
   "execution_count": 134,
   "metadata": {},
   "outputs": [
    {
     "data": {
      "text/html": [
       "\n",
       "\n",
       "\n",
       "\n",
       "\n",
       "\n",
       "  <div class=\"bk-root\" id=\"f20655cb-fe51-480e-8d00-2c4ebc644aae\" data-root-id=\"7979\"></div>\n"
      ]
     },
     "metadata": {},
     "output_type": "display_data"
    },
    {
     "data": {
      "application/javascript": [
       "(function(root) {\n",
       "  function embed_document(root) {\n",
       "    \n",
       "  var docs_json = {\"fab28319-b546-47fa-973e-97ceb217edab\":{\"defs\":[],\"roots\":{\"references\":[{\"attributes\":{\"below\":[{\"id\":\"7988\"}],\"center\":[{\"id\":\"7991\"},{\"id\":\"7995\"}],\"left\":[{\"id\":\"7992\"}],\"renderers\":[{\"id\":\"8007\"}],\"title\":{\"id\":\"7980\"},\"toolbar\":{\"id\":\"8001\"},\"x_range\":{\"id\":\"7977\"},\"x_scale\":{\"id\":\"7984\"},\"y_range\":{\"id\":\"7978\"},\"y_scale\":{\"id\":\"7986\"}},\"id\":\"7979\",\"subtype\":\"Figure\",\"type\":\"Plot\"},{\"attributes\":{},\"id\":\"7999\",\"type\":\"ResetTool\"},{\"attributes\":{},\"id\":\"8306\",\"type\":\"NodesOnly\"},{\"attributes\":{},\"id\":\"7997\",\"type\":\"WheelZoomTool\"},{\"attributes\":{},\"id\":\"8311\",\"type\":\"BasicTickFormatter\"},{\"attributes\":{\"data\":{\"AGE\":[26,26,26,22,0],\"I_am_working_in_field\":[\"it\",\"NaN\",\"I am unemployed\",\"NaN\",\"NaN\"],\"body\":[\"185 cm, 90 kg\",\"NaN\",\"NaN\",\"NaN\",\"166 cm, 58 kg\"],\"completion_percentage\":[14,12,66,12,62],\"gender\":[1,0,1,0,0],\"hobbies\":[\"sports, sleeping, cinema, food, listening to music, friends, theatre\",\"NaN\",\"playing sports, working in the garden, playing PC games, listening to music, watching movies, but I added something extra so that you don't think that I spend all my time in front of the computer\",\"NaN\",\"hiking, working around the house, working with PC, listening to music, watching movies, dancing, discos, swimming pool, cooking, parties, friends, sleeping, shopping, camping\"],\"index\":[1,4,5,7,2],\"last_login\":[\"2012-05-25 11:20:00.0\",\"2011-12-29 12:25:00.0\",\"2012-05-25 01:10:00.0\",\"2012-02-03 15:36:00.0\",\"2012-05-25 23:08:00.0\"],\"public\":[1,1,1,1,1],\"region\":[\"Zilina Region, Zilina\",\"Bansk\\u00e1 Bystrica Region, Brezno\",\"Zilina Region, Zilina\",\"Zilinsky region, Martin\",\"Zilina Region, Kysucke New Town\"],\"registration\":[\"2005-04-03 00:00:00.0\",\"2011-12-29 00:00:00.0\",\"2006-05-29 00:00:00.0\",\"2004-09-10 00:00:00.0\",\"2007-11-30 00:00:00.0\"],\"spoken_languages\":[\"English\",\"NaN\",\"English, German, Pascal\",\"NaN\",\"German\"],\"user_id\":[1,4,5,7,2]},\"selected\":{\"id\":\"8317\"},\"selection_policy\":{\"id\":\"8318\"}},\"id\":\"8009\",\"type\":\"ColumnDataSource\"},{\"attributes\":{\"data\":{\"end\":[4,5,7,2],\"start\":[1,1,1,1]},\"selected\":{\"id\":\"8319\"},\"selection_policy\":{\"id\":\"8320\"}},\"id\":\"8013\",\"type\":\"ColumnDataSource\"},{\"attributes\":{\"line_alpha\":{\"value\":0.5}},\"id\":\"8022\",\"type\":\"MultiLine\"},{\"attributes\":{},\"id\":\"7993\",\"type\":\"BasicTicker\"},{\"attributes\":{\"data_source\":{\"id\":\"8013\"},\"glyph\":{\"id\":\"8022\"},\"hover_glyph\":null,\"muted_glyph\":null,\"view\":{\"id\":\"8015\"}},\"id\":\"8014\",\"type\":\"GlyphRenderer\"},{\"attributes\":{\"source\":{\"id\":\"8013\"}},\"id\":\"8015\",\"type\":\"CDSView\"},{\"attributes\":{},\"id\":\"7998\",\"type\":\"SaveTool\"},{\"attributes\":{\"text\":\"Testing Network\"},\"id\":\"7980\",\"type\":\"Title\"},{\"attributes\":{\"fill_color\":{\"value\":\"skyblue\"},\"size\":{\"value\":15}},\"id\":\"8017\",\"type\":\"Circle\"},{\"attributes\":{\"axis\":{\"id\":\"7992\"},\"dimension\":1,\"ticker\":null},\"id\":\"7995\",\"type\":\"Grid\"},{\"attributes\":{},\"id\":\"8313\",\"type\":\"AllLabels\"},{\"attributes\":{\"axis\":{\"id\":\"7988\"},\"ticker\":null},\"id\":\"7991\",\"type\":\"Grid\"},{\"attributes\":{},\"id\":\"8320\",\"type\":\"UnionRenderers\"},{\"attributes\":{\"formatter\":{\"id\":\"8314\"},\"major_label_policy\":{\"id\":\"8316\"},\"ticker\":{\"id\":\"7993\"}},\"id\":\"7992\",\"type\":\"LinearAxis\"},{\"attributes\":{},\"id\":\"7996\",\"type\":\"PanTool\"},{\"attributes\":{},\"id\":\"8316\",\"type\":\"AllLabels\"},{\"attributes\":{},\"id\":\"8317\",\"type\":\"Selection\"},{\"attributes\":{},\"id\":\"8305\",\"type\":\"NodesOnly\"},{\"attributes\":{},\"id\":\"8318\",\"type\":\"UnionRenderers\"},{\"attributes\":{},\"id\":\"8319\",\"type\":\"Selection\"},{\"attributes\":{\"callback\":null,\"tooltips\":[[\"user_id\",\"@user_id\"],[\"public\",\"@public\"],[\"completion_percentage\",\"@completion_percentage\"],[\"gender\",\"@gender\"],[\"region\",\"@region\"],[\"last_login\",\"@last_login\"],[\"registration\",\"@registration\"],[\"AGE\",\"@AGE\"],[\"body\",\"@body\"],[\"I_am_working_in_field\",\"@I_am_working_in_field\"],[\"spoken_languages\",\"@spoken_languages\"],[\"hobbies\",\"@hobbies\"]]},\"id\":\"8000\",\"type\":\"HoverTool\"},{\"attributes\":{\"source\":{\"id\":\"8009\"}},\"id\":\"8011\",\"type\":\"CDSView\"},{\"attributes\":{},\"id\":\"7984\",\"type\":\"LinearScale\"},{\"attributes\":{\"edge_renderer\":{\"id\":\"8014\"},\"inspection_policy\":{\"id\":\"8305\"},\"layout_provider\":{\"id\":\"8016\"},\"node_renderer\":{\"id\":\"8010\"},\"selection_policy\":{\"id\":\"8306\"}},\"id\":\"8007\",\"type\":\"GraphRenderer\"},{\"attributes\":{},\"id\":\"8314\",\"type\":\"BasicTickFormatter\"},{\"attributes\":{\"formatter\":{\"id\":\"8311\"},\"major_label_policy\":{\"id\":\"8313\"},\"ticker\":{\"id\":\"7989\"}},\"id\":\"7988\",\"type\":\"LinearAxis\"},{\"attributes\":{\"data_source\":{\"id\":\"8009\"},\"glyph\":{\"id\":\"8017\"},\"hover_glyph\":null,\"muted_glyph\":null,\"view\":{\"id\":\"8011\"}},\"id\":\"8010\",\"type\":\"GlyphRenderer\"},{\"attributes\":{},\"id\":\"7989\",\"type\":\"BasicTicker\"},{\"attributes\":{\"graph_layout\":{\"1\":[0.002574888024803544,-0.0015075107097218977],\"2\":[-5.849214097423421,-9.971725640892778],\"4\":[5.83239867661347,9.981570018369915],\"5\":[10.0,-5.85447763705822],\"7\":[-9.985759467214853,5.846140770290807]}},\"id\":\"8016\",\"type\":\"StaticLayoutProvider\"},{\"attributes\":{\"end\":10.1,\"start\":-10.1},\"id\":\"7977\",\"type\":\"Range1d\"},{\"attributes\":{},\"id\":\"7986\",\"type\":\"LinearScale\"},{\"attributes\":{\"end\":10.1,\"start\":-10.1},\"id\":\"7978\",\"type\":\"Range1d\"},{\"attributes\":{\"active_multi\":null,\"active_scroll\":{\"id\":\"7997\"},\"tools\":[{\"id\":\"7996\"},{\"id\":\"7997\"},{\"id\":\"7998\"},{\"id\":\"7999\"},{\"id\":\"8000\"}]},\"id\":\"8001\",\"type\":\"Toolbar\"}],\"root_ids\":[\"7979\"]},\"title\":\"Bokeh Application\",\"version\":\"2.3.2\"}};\n",
       "  var render_items = [{\"docid\":\"fab28319-b546-47fa-973e-97ceb217edab\",\"root_ids\":[\"7979\"],\"roots\":{\"7979\":\"f20655cb-fe51-480e-8d00-2c4ebc644aae\"}}];\n",
       "  root.Bokeh.embed.embed_items_notebook(docs_json, render_items);\n",
       "\n",
       "  }\n",
       "  if (root.Bokeh !== undefined) {\n",
       "    embed_document(root);\n",
       "  } else {\n",
       "    var attempts = 0;\n",
       "    var timer = setInterval(function(root) {\n",
       "      if (root.Bokeh !== undefined) {\n",
       "        clearInterval(timer);\n",
       "        embed_document(root);\n",
       "      } else {\n",
       "        attempts++;\n",
       "        if (attempts > 100) {\n",
       "          clearInterval(timer);\n",
       "          console.log(\"Bokeh: ERROR: Unable to run BokehJS code because BokehJS library is missing\");\n",
       "        }\n",
       "      }\n",
       "    }, 10, root)\n",
       "  }\n",
       "})(window);"
      ],
      "application/vnd.bokehjs_exec.v0+json": ""
     },
     "metadata": {
      "application/vnd.bokehjs_exec.v0+json": {
       "id": "7979"
      }
     },
     "output_type": "display_data"
    }
   ],
   "source": [
    "\n",
    "HOVER_TOOLTIPS = [(p, \"@\"+p) for p in vis_attributes]\n",
    "plot2 = figure(tooltips = HOVER_TOOLTIPS,\n",
    "              tools=\"pan,wheel_zoom,save,reset\", active_scroll='wheel_zoom',\n",
    "            x_range=Range1d(-10.1, 10.1), y_range=Range1d(-10.1, 10.1), title=title)\n",
    "\n",
    "\n",
    "network_graph2 = from_networkx(med_graph, networkx.spring_layout, scale=10, center=(0, 0))\n",
    "\n",
    "#Set node size and color\n",
    "network_graph2.node_renderer.glyph = Circle(size=15, fill_color='skyblue')\n",
    "\n",
    "#Set edge opacity and width\n",
    "network_graph2.edge_renderer.glyph = MultiLine(line_alpha=0.5, line_width=1)\n",
    "plot2.renderers.append(network_graph2)\n",
    "show(plot2)"
   ]
  },
  {
   "cell_type": "code",
   "execution_count": null,
   "metadata": {},
   "outputs": [],
   "source": []
  },
  {
   "cell_type": "code",
   "execution_count": null,
   "metadata": {},
   "outputs": [],
   "source": []
  }
 ],
 "metadata": {
  "kernelspec": {
   "display_name": "Python 3 (ipykernel)",
   "language": "python",
   "name": "python3"
  },
  "language_info": {
   "codemirror_mode": {
    "name": "ipython",
    "version": 3
   },
   "file_extension": ".py",
   "mimetype": "text/x-python",
   "name": "python",
   "nbconvert_exporter": "python",
   "pygments_lexer": "ipython3",
   "version": "3.10.8"
  },
  "vscode": {
   "interpreter": {
    "hash": "971766f376ecdc213df452fa1d5ebded0d86a0d8319740dbc4775ecb241615e6"
   }
  }
 },
 "nbformat": 4,
 "nbformat_minor": 4
}
