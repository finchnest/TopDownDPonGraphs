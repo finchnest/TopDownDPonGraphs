{
 "cells": [
  {
   "cell_type": "code",
   "execution_count": null,
   "metadata": {},
   "outputs": [],
   "source": [
    "# !/usr/bin/python3 -m pip install ipykernel -U --user --force-reinstall"
   ]
  },
  {
   "cell_type": "code",
   "execution_count": null,
   "metadata": {},
   "outputs": [],
   "source": [
    "# !pip3 install pyvis\n",
    "!pip3 install bokeh"
   ]
  },
  {
   "cell_type": "code",
   "execution_count": null,
   "metadata": {},
   "outputs": [],
   "source": [
    "import pandas as pd\n",
    "from tqdm import tqdm\n",
    "import numpy as np\n",
    "import re\n",
    "import html\n",
    "from urllib import parse\n",
    "import requests\n",
    "import networkx\n",
    "from bokeh.io import output_notebook, show, save\n",
    "output_notebook()\n",
    "# from pyvis.network import Network"
   ]
  },
  {
   "cell_type": "code",
   "execution_count": null,
   "metadata": {},
   "outputs": [],
   "source": [
    "from bokeh.io import output_notebook, show, save\n",
    "from bokeh.models import Range1d, Circle, ColumnDataSource, MultiLine\n",
    "from bokeh.plotting import figure\n",
    "from bokeh.plotting import from_networkx"
   ]
  },
  {
   "cell_type": "code",
   "execution_count": 4,
   "metadata": {},
   "outputs": [],
   "source": [
    "from utils import *"
   ]
  },
  {
   "cell_type": "code",
   "execution_count": null,
   "metadata": {},
   "outputs": [],
   "source": [
    "# with open('./soc-pokec-profiles.txt', 'r') as f:\n",
    "#     profiles = f.readlines()\n",
    "# with open('./soc-pokec-relationships.txt', 'r') as f:\n",
    "#     relationships = f.readlines()\n",
    "\n",
    "# max_node = 500\n",
    "\n",
    "# relationships = relationships\n",
    "# profiles = profiles[:max_node]\n",
    "# print(len(profiles))\n",
    "\n",
    "# with open('profiles_200_sample.txt', 'w') as f:\n",
    "#     for l in profiles:\n",
    "#         f.write(l)\n",
    "\n",
    "# # with open('relationships_50_sample.txt', 'w') as f:\n",
    "# #     for l in relationships:\n",
    "# #         f.write(l)\n",
    "\n",
    "# with open('profiles_200_sample.txt', 'r') as f:\n",
    "#     profiles = f.readlines()\n",
    "# print(len(profiles))\n",
    "# def get_empty_user(profiles):\n",
    "\n",
    "#     pp = [parse_row(p) for p in profiles]\n",
    "#     all_node_id = []\n",
    "#     for p in pp:\n",
    "#         all_node_id.append(int(p[0]))\n",
    "\n",
    "#     missing = []\n",
    "#     for i in range(1, 501):\n",
    "#         if i not in all_node_id:\n",
    "#             missing.append(i)\n",
    "#     return missing\n",
    "\n",
    "# print(len(get_empty_user(profiles)))"
   ]
  },
  {
   "cell_type": "code",
   "execution_count": null,
   "metadata": {},
   "outputs": [],
   "source": [
    "node_attributes = ['user_id', 'public', 'completion_percentage', 'gender', 'region', 'last_login', 'registration', 'AGE', 'body', 'I_am_working_in_field', 'spoken_languages', 'hobbies', 'I_most_enjoy_good_food', 'pets', 'body_type', 'my_eyesight', 'eye_color', 'hair_color', 'hair_type', 'completed_level_of_education', 'favourite_color', 'relation_to_smoking', 'relation_to_alcohol', 'sign_in_zodiac', 'on_pokec_i_am_looking_for', 'love_is_for_me', 'relation_to_casual_sex', 'my_partner_should_be', 'marital_status', 'children', 'relation_to_children', 'I_like_movies', 'I_like_watching_movie', 'I_like_music', 'I_mostly_like_listening_to_music', 'the_idea_of_good_evening', 'I_like_specialties_from_kitchen', 'fun', 'I_am_going_to_concerts', 'my_active_sports', 'my_passive_sports', 'profession', 'I_like_books', 'life_style', 'music', 'cars', 'politics', 'relationships', 'art_culture', 'hobbies_interests', 'science_technologies', 'computers_internet', 'education', 'sport', 'movies', 'travelling', 'health', 'companies_brands', 'more']"
   ]
  },
  {
   "cell_type": "code",
   "execution_count": null,
   "metadata": {},
   "outputs": [],
   "source": [
    "vis_attributes = ['user_id', 'public', 'completion_percentage', 'gender', 'region', 'last_login', 'registration', 'AGE', 'body', 'I_am_working_in_field', 'spoken_languages', 'hobbies']"
   ]
  },
  {
   "cell_type": "code",
   "execution_count": null,
   "metadata": {},
   "outputs": [],
   "source": [
    "def load_from_csv(path):\n",
    "    df = pd.read_csv(path)\n",
    "    return df\n",
    "\n",
    "def row_to_dict(row, attr):\n",
    "    data = {}\n",
    "    for a in attr:\n",
    "        data[a] = row[a]\n",
    "    return data"
   ]
  },
  {
   "cell_type": "code",
   "execution_count": null,
   "metadata": {},
   "outputs": [],
   "source": [
    "def get_graph_edge(max_node=20, empty_user=[]):\n",
    "    \n",
    "    edge_df = pd.read_csv('./toy_example_edge_50.csv')\n",
    "    G = networkx.from_pandas_edgelist(edge_df, 'source', 'target')\n",
    "    print('Edge Amount of this graph:', len(edge_df))\n",
    "    return G"
   ]
  },
  {
   "cell_type": "code",
   "execution_count": null,
   "metadata": {},
   "outputs": [],
   "source": [
    "def create_network(profiles, attr, max_node, empty_user):\n",
    "    \n",
    "    net = get_graph_edge(max_node, empty_user)\n",
    "    # profiles : dataframe\n",
    "\n",
    "    all_attrs = {}\n",
    "    for idx, p in profiles.iterrows():\n",
    "        node_attr = row_to_dict(p, attr)\n",
    "        node_id = int(p['user_id'])\n",
    "        if node_id <= max_node:\n",
    "            all_attrs[node_id] = node_attr\n",
    "    networkx.set_node_attributes(net, all_attrs)\n",
    "    return net"
   ]
  },
  {
   "cell_type": "code",
   "execution_count": null,
   "metadata": {},
   "outputs": [],
   "source": [
    "def load_missing():\n",
    "    with open('./missing_users.txt') as f:\n",
    "        lines = f.readlines()\n",
    "    lst = [int(l.resplace('\\n', '')) for l in lines]\n",
    "    return lst\n",
    "\n",
    "missing = load_missing()"
   ]
  },
  {
   "cell_type": "code",
   "execution_count": null,
   "metadata": {},
   "outputs": [],
   "source": [
    "df = pd.read_csv('./toy_example_500.csv')\n",
    "net = create_network(df, node_attributes, 50, missing)"
   ]
  },
  {
   "cell_type": "code",
   "execution_count": null,
   "metadata": {},
   "outputs": [],
   "source": [
    "print(net.nodes) # node id\n",
    "net.nodes[31]"
   ]
  },
  {
   "cell_type": "code",
   "execution_count": null,
   "metadata": {},
   "outputs": [],
   "source": [
    "title = 'Testing Network'\n",
    "\n",
    "HOVER_TOOLTIPS = [(p, \"@\"+p) for p in vis_attributes]\n",
    "plot = figure(tooltips = HOVER_TOOLTIPS,\n",
    "              tools=\"pan,wheel_zoom,save,reset\", active_scroll='wheel_zoom',\n",
    "            x_range=Range1d(-10.1, 10.1), y_range=Range1d(-10.1, 10.1), title=title)\n",
    "\n",
    "network_graph = from_networkx(net, networkx.spring_layout, scale=10, center=(0, 0))\n",
    "\n",
    "#Set node size and color\n",
    "network_graph.node_renderer.glyph = Circle(size=15, fill_color='skyblue')\n",
    "\n",
    "#Set edge opacity and width\n",
    "network_graph.edge_renderer.glyph = MultiLine(line_alpha=0.5, line_width=1)\n",
    "plot.renderers.append(network_graph)\n",
    "show(plot)"
   ]
  },
  {
   "cell_type": "code",
   "execution_count": null,
   "metadata": {},
   "outputs": [],
   "source": []
  }
 ],
 "metadata": {
  "kernelspec": {
   "display_name": "Python 3 (ipykernel)",
   "language": "python",
   "name": "python3"
  },
  "language_info": {
   "codemirror_mode": {
    "name": "ipython",
    "version": 3
   },
   "file_extension": ".py",
   "mimetype": "text/x-python",
   "name": "python",
   "nbconvert_exporter": "python",
   "pygments_lexer": "ipython3",
   "version": "3.9.13"
  },
  "vscode": {
   "interpreter": {
    "hash": "31f2aee4e71d21fbe5cf8b01ff0e069b9275f58929596ceb00d14d90e3e16cd6"
   }
  }
 },
 "nbformat": 4,
 "nbformat_minor": 2
}
