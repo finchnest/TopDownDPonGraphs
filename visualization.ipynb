{
 "cells": [
  {
   "cell_type": "code",
   "execution_count": 1,
   "metadata": {},
   "outputs": [],
   "source": [
    "# !/usr/bin/python3 -m pip install ipykernel -U --user --force-reinstall"
   ]
  },
  {
   "cell_type": "code",
   "execution_count": 2,
   "metadata": {},
   "outputs": [
    {
     "name": "stdout",
     "output_type": "stream",
     "text": [
      "Requirement already satisfied: bokeh in /opt/anaconda3/lib/python3.8/site-packages (2.3.2)\n",
      "Requirement already satisfied: Jinja2>=2.9 in /opt/anaconda3/lib/python3.8/site-packages (from bokeh) (3.0.3)\n",
      "Requirement already satisfied: pillow>=7.1.0 in /opt/anaconda3/lib/python3.8/site-packages (from bokeh) (8.2.0)\n",
      "Requirement already satisfied: typing-extensions>=3.7.4 in /opt/anaconda3/lib/python3.8/site-packages (from bokeh) (3.7.4.3)\n",
      "Requirement already satisfied: PyYAML>=3.10 in /opt/anaconda3/lib/python3.8/site-packages (from bokeh) (5.4.1)\n",
      "Requirement already satisfied: packaging>=16.8 in /opt/anaconda3/lib/python3.8/site-packages (from bokeh) (20.9)\n",
      "Requirement already satisfied: tornado>=5.1 in /opt/anaconda3/lib/python3.8/site-packages (from bokeh) (6.1)\n",
      "Requirement already satisfied: numpy>=1.11.3 in /opt/anaconda3/lib/python3.8/site-packages (from bokeh) (1.20.1)\n",
      "Requirement already satisfied: python-dateutil>=2.1 in /opt/anaconda3/lib/python3.8/site-packages (from bokeh) (2.8.1)\n",
      "Requirement already satisfied: MarkupSafe>=2.0 in /opt/anaconda3/lib/python3.8/site-packages (from Jinja2>=2.9->bokeh) (2.0.1)\n",
      "Requirement already satisfied: pyparsing>=2.0.2 in /opt/anaconda3/lib/python3.8/site-packages (from packaging>=16.8->bokeh) (2.4.7)\n",
      "Requirement already satisfied: six>=1.5 in /opt/anaconda3/lib/python3.8/site-packages (from python-dateutil>=2.1->bokeh) (1.15.0)\n",
      "\n",
      "\u001b[1m[\u001b[0m\u001b[34;49mnotice\u001b[0m\u001b[1;39;49m]\u001b[0m\u001b[39;49m A new release of pip available: \u001b[0m\u001b[31;49m22.2.2\u001b[0m\u001b[39;49m -> \u001b[0m\u001b[32;49m22.3\u001b[0m\n",
      "\u001b[1m[\u001b[0m\u001b[34;49mnotice\u001b[0m\u001b[1;39;49m]\u001b[0m\u001b[39;49m To update, run: \u001b[0m\u001b[32;49mpip install --upgrade pip\u001b[0m\n"
     ]
    }
   ],
   "source": [
    "# !pip3 install pyvis\n",
    "!pip3 install bokeh"
   ]
  },
  {
   "cell_type": "code",
   "execution_count": 3,
   "metadata": {},
   "outputs": [
    {
     "data": {
      "text/html": [
       "\n",
       "    <div class=\"bk-root\">\n",
       "        <a href=\"https://bokeh.org\" target=\"_blank\" class=\"bk-logo bk-logo-small bk-logo-notebook\"></a>\n",
       "        <span id=\"1001\">Loading BokehJS ...</span>\n",
       "    </div>"
      ]
     },
     "metadata": {},
     "output_type": "display_data"
    },
    {
     "data": {
      "application/javascript": "\n(function(root) {\n  function now() {\n    return new Date();\n  }\n\n  var force = true;\n\n  if (typeof root._bokeh_onload_callbacks === \"undefined\" || force === true) {\n    root._bokeh_onload_callbacks = [];\n    root._bokeh_is_loading = undefined;\n  }\n\n  var JS_MIME_TYPE = 'application/javascript';\n  var HTML_MIME_TYPE = 'text/html';\n  var EXEC_MIME_TYPE = 'application/vnd.bokehjs_exec.v0+json';\n  var CLASS_NAME = 'output_bokeh rendered_html';\n\n  /**\n   * Render data to the DOM node\n   */\n  function render(props, node) {\n    var script = document.createElement(\"script\");\n    node.appendChild(script);\n  }\n\n  /**\n   * Handle when an output is cleared or removed\n   */\n  function handleClearOutput(event, handle) {\n    var cell = handle.cell;\n\n    var id = cell.output_area._bokeh_element_id;\n    var server_id = cell.output_area._bokeh_server_id;\n    // Clean up Bokeh references\n    if (id != null && id in Bokeh.index) {\n      Bokeh.index[id].model.document.clear();\n      delete Bokeh.index[id];\n    }\n\n    if (server_id !== undefined) {\n      // Clean up Bokeh references\n      var cmd = \"from bokeh.io.state import curstate; print(curstate().uuid_to_server['\" + server_id + \"'].get_sessions()[0].document.roots[0]._id)\";\n      cell.notebook.kernel.execute(cmd, {\n        iopub: {\n          output: function(msg) {\n            var id = msg.content.text.trim();\n            if (id in Bokeh.index) {\n              Bokeh.index[id].model.document.clear();\n              delete Bokeh.index[id];\n            }\n          }\n        }\n      });\n      // Destroy server and session\n      var cmd = \"import bokeh.io.notebook as ion; ion.destroy_server('\" + server_id + \"')\";\n      cell.notebook.kernel.execute(cmd);\n    }\n  }\n\n  /**\n   * Handle when a new output is added\n   */\n  function handleAddOutput(event, handle) {\n    var output_area = handle.output_area;\n    var output = handle.output;\n\n    // limit handleAddOutput to display_data with EXEC_MIME_TYPE content only\n    if ((output.output_type != \"display_data\") || (!Object.prototype.hasOwnProperty.call(output.data, EXEC_MIME_TYPE))) {\n      return\n    }\n\n    var toinsert = output_area.element.find(\".\" + CLASS_NAME.split(' ')[0]);\n\n    if (output.metadata[EXEC_MIME_TYPE][\"id\"] !== undefined) {\n      toinsert[toinsert.length - 1].firstChild.textContent = output.data[JS_MIME_TYPE];\n      // store reference to embed id on output_area\n      output_area._bokeh_element_id = output.metadata[EXEC_MIME_TYPE][\"id\"];\n    }\n    if (output.metadata[EXEC_MIME_TYPE][\"server_id\"] !== undefined) {\n      var bk_div = document.createElement(\"div\");\n      bk_div.innerHTML = output.data[HTML_MIME_TYPE];\n      var script_attrs = bk_div.children[0].attributes;\n      for (var i = 0; i < script_attrs.length; i++) {\n        toinsert[toinsert.length - 1].firstChild.setAttribute(script_attrs[i].name, script_attrs[i].value);\n        toinsert[toinsert.length - 1].firstChild.textContent = bk_div.children[0].textContent\n      }\n      // store reference to server id on output_area\n      output_area._bokeh_server_id = output.metadata[EXEC_MIME_TYPE][\"server_id\"];\n    }\n  }\n\n  function register_renderer(events, OutputArea) {\n\n    function append_mime(data, metadata, element) {\n      // create a DOM node to render to\n      var toinsert = this.create_output_subarea(\n        metadata,\n        CLASS_NAME,\n        EXEC_MIME_TYPE\n      );\n      this.keyboard_manager.register_events(toinsert);\n      // Render to node\n      var props = {data: data, metadata: metadata[EXEC_MIME_TYPE]};\n      render(props, toinsert[toinsert.length - 1]);\n      element.append(toinsert);\n      return toinsert\n    }\n\n    /* Handle when an output is cleared or removed */\n    events.on('clear_output.CodeCell', handleClearOutput);\n    events.on('delete.Cell', handleClearOutput);\n\n    /* Handle when a new output is added */\n    events.on('output_added.OutputArea', handleAddOutput);\n\n    /**\n     * Register the mime type and append_mime function with output_area\n     */\n    OutputArea.prototype.register_mime_type(EXEC_MIME_TYPE, append_mime, {\n      /* Is output safe? */\n      safe: true,\n      /* Index of renderer in `output_area.display_order` */\n      index: 0\n    });\n  }\n\n  // register the mime type if in Jupyter Notebook environment and previously unregistered\n  if (root.Jupyter !== undefined) {\n    var events = require('base/js/events');\n    var OutputArea = require('notebook/js/outputarea').OutputArea;\n\n    if (OutputArea.prototype.mime_types().indexOf(EXEC_MIME_TYPE) == -1) {\n      register_renderer(events, OutputArea);\n    }\n  }\n\n  \n  if (typeof (root._bokeh_timeout) === \"undefined\" || force === true) {\n    root._bokeh_timeout = Date.now() + 5000;\n    root._bokeh_failed_load = false;\n  }\n\n  var NB_LOAD_WARNING = {'data': {'text/html':\n     \"<div style='background-color: #fdd'>\\n\"+\n     \"<p>\\n\"+\n     \"BokehJS does not appear to have successfully loaded. If loading BokehJS from CDN, this \\n\"+\n     \"may be due to a slow or bad network connection. Possible fixes:\\n\"+\n     \"</p>\\n\"+\n     \"<ul>\\n\"+\n     \"<li>re-rerun `output_notebook()` to attempt to load from CDN again, or</li>\\n\"+\n     \"<li>use INLINE resources instead, as so:</li>\\n\"+\n     \"</ul>\\n\"+\n     \"<code>\\n\"+\n     \"from bokeh.resources import INLINE\\n\"+\n     \"output_notebook(resources=INLINE)\\n\"+\n     \"</code>\\n\"+\n     \"</div>\"}};\n\n  function display_loaded() {\n    var el = document.getElementById(\"1001\");\n    if (el != null) {\n      el.textContent = \"BokehJS is loading...\";\n    }\n    if (root.Bokeh !== undefined) {\n      if (el != null) {\n        el.textContent = \"BokehJS \" + root.Bokeh.version + \" successfully loaded.\";\n      }\n    } else if (Date.now() < root._bokeh_timeout) {\n      setTimeout(display_loaded, 100)\n    }\n  }\n\n\n  function run_callbacks() {\n    try {\n      root._bokeh_onload_callbacks.forEach(function(callback) {\n        if (callback != null)\n          callback();\n      });\n    } finally {\n      delete root._bokeh_onload_callbacks\n    }\n    console.debug(\"Bokeh: all callbacks have finished\");\n  }\n\n  function load_libs(css_urls, js_urls, callback) {\n    if (css_urls == null) css_urls = [];\n    if (js_urls == null) js_urls = [];\n\n    root._bokeh_onload_callbacks.push(callback);\n    if (root._bokeh_is_loading > 0) {\n      console.debug(\"Bokeh: BokehJS is being loaded, scheduling callback at\", now());\n      return null;\n    }\n    if (js_urls == null || js_urls.length === 0) {\n      run_callbacks();\n      return null;\n    }\n    console.debug(\"Bokeh: BokehJS not loaded, scheduling load and callback at\", now());\n    root._bokeh_is_loading = css_urls.length + js_urls.length;\n\n    function on_load() {\n      root._bokeh_is_loading--;\n      if (root._bokeh_is_loading === 0) {\n        console.debug(\"Bokeh: all BokehJS libraries/stylesheets loaded\");\n        run_callbacks()\n      }\n    }\n\n    function on_error(url) {\n      console.error(\"failed to load \" + url);\n    }\n\n    for (let i = 0; i < css_urls.length; i++) {\n      const url = css_urls[i];\n      const element = document.createElement(\"link\");\n      element.onload = on_load;\n      element.onerror = on_error.bind(null, url);\n      element.rel = \"stylesheet\";\n      element.type = \"text/css\";\n      element.href = url;\n      console.debug(\"Bokeh: injecting link tag for BokehJS stylesheet: \", url);\n      document.body.appendChild(element);\n    }\n\n    const hashes = {\"https://cdn.bokeh.org/bokeh/release/bokeh-2.3.2.min.js\": \"XypntL49z55iwGVUW4qsEu83zKL3XEcz0MjuGOQ9SlaaQ68X/g+k1FcioZi7oQAc\", \"https://cdn.bokeh.org/bokeh/release/bokeh-tables-2.3.2.min.js\": \"bEsM86IHGDTLCS0Zod8a8WM6Y4+lafAL/eSiyQcuPzinmWNgNO2/olUF0Z2Dkn5i\", \"https://cdn.bokeh.org/bokeh/release/bokeh-widgets-2.3.2.min.js\": \"TX0gSQTdXTTeScqxj6PVQxTiRW8DOoGVwinyi1D3kxv7wuxQ02XkOxv0xwiypcAH\"};\n\n    for (let i = 0; i < js_urls.length; i++) {\n      const url = js_urls[i];\n      const element = document.createElement('script');\n      element.onload = on_load;\n      element.onerror = on_error.bind(null, url);\n      element.async = false;\n      element.src = url;\n      if (url in hashes) {\n        element.crossOrigin = \"anonymous\";\n        element.integrity = \"sha384-\" + hashes[url];\n      }\n      console.debug(\"Bokeh: injecting script tag for BokehJS library: \", url);\n      document.head.appendChild(element);\n    }\n  };\n\n  function inject_raw_css(css) {\n    const element = document.createElement(\"style\");\n    element.appendChild(document.createTextNode(css));\n    document.body.appendChild(element);\n  }\n\n  \n  var js_urls = [\"https://cdn.bokeh.org/bokeh/release/bokeh-2.3.2.min.js\", \"https://cdn.bokeh.org/bokeh/release/bokeh-widgets-2.3.2.min.js\", \"https://cdn.bokeh.org/bokeh/release/bokeh-tables-2.3.2.min.js\"];\n  var css_urls = [];\n  \n\n  var inline_js = [\n    function(Bokeh) {\n      Bokeh.set_log_level(\"info\");\n    },\n    function(Bokeh) {\n    \n    \n    }\n  ];\n\n  function run_inline_js() {\n    \n    if (root.Bokeh !== undefined || force === true) {\n      \n    for (var i = 0; i < inline_js.length; i++) {\n      inline_js[i].call(root, root.Bokeh);\n    }\n    if (force === true) {\n        display_loaded();\n      }} else if (Date.now() < root._bokeh_timeout) {\n      setTimeout(run_inline_js, 100);\n    } else if (!root._bokeh_failed_load) {\n      console.log(\"Bokeh: BokehJS failed to load within specified timeout.\");\n      root._bokeh_failed_load = true;\n    } else if (force !== true) {\n      var cell = $(document.getElementById(\"1001\")).parents('.cell').data().cell;\n      cell.output_area.append_execute_result(NB_LOAD_WARNING)\n    }\n\n  }\n\n  if (root._bokeh_is_loading === 0) {\n    console.debug(\"Bokeh: BokehJS loaded, going straight to plotting\");\n    run_inline_js();\n  } else {\n    load_libs(css_urls, js_urls, function() {\n      console.debug(\"Bokeh: BokehJS plotting callback run at\", now());\n      run_inline_js();\n    });\n  }\n}(window));",
      "application/vnd.bokehjs_load.v0+json": ""
     },
     "metadata": {},
     "output_type": "display_data"
    }
   ],
   "source": [
    "import pandas as pd\n",
    "from tqdm import tqdm\n",
    "import numpy as np\n",
    "import re\n",
    "import html\n",
    "from urllib import parse\n",
    "import requests\n",
    "import networkx\n",
    "from bokeh.io import output_notebook, show, save\n",
    "output_notebook()\n",
    "# from pyvis.network import Network"
   ]
  },
  {
   "cell_type": "code",
   "execution_count": 4,
   "metadata": {},
   "outputs": [],
   "source": [
    "from bokeh.io import output_notebook, show, save\n",
    "from bokeh.models import Range1d, Circle, ColumnDataSource, MultiLine\n",
    "from bokeh.plotting import figure\n",
    "from bokeh.plotting import from_networkx"
   ]
  },
  {
   "cell_type": "code",
   "execution_count": 5,
   "metadata": {},
   "outputs": [],
   "source": [
    "from utils import *"
   ]
  },
  {
   "cell_type": "code",
   "execution_count": 6,
   "metadata": {},
   "outputs": [],
   "source": [
    "node_attributes = ['user_id', 'public', 'completion_percentage', 'gender', 'region', 'last_login', 'registration', 'AGE', 'body', 'I_am_working_in_field', 'spoken_languages', 'hobbies', 'I_most_enjoy_good_food', 'pets', 'body_type', 'my_eyesight', 'eye_color', 'hair_color', 'hair_type', 'completed_level_of_education', 'favourite_color', 'relation_to_smoking', 'relation_to_alcohol', 'sign_in_zodiac', 'on_pokec_i_am_looking_for', 'love_is_for_me', 'relation_to_casual_sex', 'my_partner_should_be', 'marital_status', 'children', 'relation_to_children', 'I_like_movies', 'I_like_watching_movie', 'I_like_music', 'I_mostly_like_listening_to_music', 'the_idea_of_good_evening', 'I_like_specialties_from_kitchen', 'fun', 'I_am_going_to_concerts', 'my_active_sports', 'my_passive_sports', 'profession', 'I_like_books', 'life_style', 'music', 'cars', 'politics', 'relationships', 'art_culture', 'hobbies_interests', 'science_technologies', 'computers_internet', 'education', 'sport', 'movies', 'travelling', 'health', 'companies_brands', 'more']"
   ]
  },
  {
   "cell_type": "code",
   "execution_count": 7,
   "metadata": {},
   "outputs": [],
   "source": [
    "vis_attributes = ['user_id', 'public', 'completion_percentage', 'gender', 'region', 'last_login', 'registration', 'AGE', 'body', 'I_am_working_in_field', 'spoken_languages', 'hobbies']"
   ]
  },
  {
   "cell_type": "code",
   "execution_count": 8,
   "metadata": {},
   "outputs": [],
   "source": [
    "def load_from_csv(path):\n",
    "    df = pd.read_csv(path)\n",
    "    return df\n",
    "\n",
    "def row_to_dict(row, attr):\n",
    "    data = {}\n",
    "    for a in attr:\n",
    "        data[a] = row[a]\n",
    "    return data"
   ]
  },
  {
   "cell_type": "code",
   "execution_count": 9,
   "metadata": {},
   "outputs": [],
   "source": [
    "def load_missing():\n",
    "    with open('./missing_users.txt') as f:\n",
    "        lines = f.readlines()\n",
    "    lst = [int(l.replace('\\n', '')) for l in lines]\n",
    "    return lst\n",
    "\n",
    "missing = load_missing()"
   ]
  },
  {
   "cell_type": "code",
   "execution_count": 10,
   "metadata": {},
   "outputs": [],
   "source": [
    "df = pd.read_csv('./toy_example_500.csv')\n",
    "net = create_network(df, vis_attributes, 50, missing)"
   ]
  },
  {
   "cell_type": "code",
   "execution_count": 11,
   "metadata": {},
   "outputs": [
    {
     "name": "stdout",
     "output_type": "stream",
     "text": [
      "[1, 13, 11, 6, 3, 4, 5, 15, 14, 7, 8, 12, 9, 10, 16, 2, 18, 19, 20, 21, 22, 23, 24, 25, 26, 27, 28, 29, 30, 31, 32, 33, 34, 35, 36, 37, 38, 39, 40, 41, 42, 43, 44, 45, 46, 47, 48, 49, 50, 17]\n"
     ]
    },
    {
     "data": {
      "text/plain": [
       "{'user_id': 31,\n",
       " 'public': 1,\n",
       " 'completion_percentage': 62,\n",
       " 'gender': 1,\n",
       " 'region': 'Zilina Region, Kysucke New Town',\n",
       " 'last_login': '2012-02-18 13:20:00.0',\n",
       " 'registration': '2007-01-01 00:00:00.0',\n",
       " 'AGE': 24,\n",
       " 'body': '170 cm, 75 kg',\n",
       " 'I_am_working_in_field': nan,\n",
       " 'spoken_languages': 'German, Slovak, Czech, but preferably your own',\n",
       " 'hobbies': 'playing sports, hiking, working around the house, working with a computer, cooking, friends, sleeping, sex, camping, .............'}"
      ]
     },
     "execution_count": 11,
     "metadata": {},
     "output_type": "execute_result"
    }
   ],
   "source": [
    "print(net.nodes) # node id\n",
    "net.nodes[31]"
   ]
  },
  {
   "cell_type": "code",
   "execution_count": 12,
   "metadata": {},
   "outputs": [
    {
     "data": {
      "text/html": [
       "\n",
       "\n",
       "\n",
       "\n",
       "\n",
       "\n",
       "  <div class=\"bk-root\" id=\"58fdb1ed-8a2c-42bb-a1de-3b992d09561c\" data-root-id=\"1005\"></div>\n"
      ]
     },
     "metadata": {},
     "output_type": "display_data"
    },
    {
     "data": {
      "application/javascript": "(function(root) {\n  function embed_document(root) {\n    \n  var docs_json = {\"68c72798-c88b-487d-ae78-4bef2c263e0e\":{\"defs\":[],\"roots\":{\"references\":[{\"attributes\":{\"below\":[{\"id\":\"1014\"}],\"center\":[{\"id\":\"1017\"},{\"id\":\"1021\"}],\"left\":[{\"id\":\"1018\"}],\"renderers\":[{\"id\":\"1033\"}],\"title\":{\"id\":\"1006\"},\"toolbar\":{\"id\":\"1027\"},\"x_range\":{\"id\":\"1003\"},\"x_scale\":{\"id\":\"1010\"},\"y_range\":{\"id\":\"1004\"},\"y_scale\":{\"id\":\"1012\"}},\"id\":\"1005\",\"subtype\":\"Figure\",\"type\":\"Plot\"},{\"attributes\":{},\"id\":\"1015\",\"type\":\"BasicTicker\"},{\"attributes\":{\"data_source\":{\"id\":\"1039\"},\"glyph\":{\"id\":\"1048\"},\"hover_glyph\":null,\"muted_glyph\":null,\"view\":{\"id\":\"1041\"}},\"id\":\"1040\",\"type\":\"GlyphRenderer\"},{\"attributes\":{\"text\":\"Testing Network\"},\"id\":\"1006\",\"type\":\"Title\"},{\"attributes\":{},\"id\":\"1010\",\"type\":\"LinearScale\"},{\"attributes\":{\"data_source\":{\"id\":\"1035\"},\"glyph\":{\"id\":\"1043\"},\"hover_glyph\":null,\"muted_glyph\":null,\"view\":{\"id\":\"1037\"}},\"id\":\"1036\",\"type\":\"GlyphRenderer\"},{\"attributes\":{\"graph_layout\":{\"1\":[4.446416090971195,4.549487374152023],\"10\":[6.498840326237896,1.0167458990239795],\"11\":[8.536677220270517,5.150392790266778],\"12\":[6.402140942391253,8.22089824174245],\"13\":[2.6520702845911845,6.79887041344775],\"14\":[4.903461139741084,7.331193836887884],\"15\":[3.616031510124686,8.2720436028015],\"16\":[1.495138003098777,1.3387611334334848],\"17\":[10.0,0.11771243396156635],\"18\":[-4.109467264047121,0.45681847479337906],\"19\":[-3.9704246787748567,2.0343237176646887],\"2\":[-2.0629985202441556,-2.0718168411566276],\"20\":[-2.1175390293264567,-6.739136378627266],\"21\":[-0.9965255289822887,2.3931045830520548],\"22\":[-2.245890471704413,-0.288003657286294],\"23\":[-0.5279528423486938,0.49299046494118487],\"24\":[-5.870847933861516,-1.7971763670266616],\"25\":[-3.361974725797613,-1.839964653135598],\"26\":[-6.8375399889055215,-3.014992679380027],\"27\":[-1.6813625130474374,-5.310469403801367],\"28\":[1.1320751467474606,-4.953749565702614],\"29\":[-3.1726012427071795,0.08172521624568838],\"3\":[7.8858144346778225,3.6469486947502454],\"30\":[-5.274131614522013,-2.4300907880942475],\"31\":[1.5906240621525294,-2.060600188880691],\"32\":[-5.437035930265276,-3.536112286509914],\"33\":[2.9333304446388224,-0.9912457220182244],\"34\":[-4.848819945783128,-4.419545870201984],\"35\":[-2.8460161043128758,-5.844754525037467],\"36\":[-6.075574291803379,-4.548398972024024],\"37\":[-3.7687808897296784,-3.7455490707161014],\"38\":[-0.807767320784435,-6.436293246529715],\"39\":[-0.49328020593745436,-4.677144976513217],\"4\":[6.421690469861795,6.952184207566545],\"40\":[-2.962327264551677,0.95190019213126],\"41\":[0.033374447258595924,-0.246945971768595],\"42\":[-4.843839529161866,-5.811276006010529],\"43\":[-4.9872535609150885,0.8714414741851867],\"44\":[1.6208299771321966,-3.7242964140246717],\"45\":[0.37840405219180023,-3.4614197710925643],\"46\":[-5.508446302441871,-0.46029570173092954],\"47\":[-4.4655774805047015,-1.266393235137657],\"48\":[-6.760834075292742,-0.7321549898894939],\"49\":[0.2834637830385246,-5.871172672791645],\"5\":[7.092273098832578,4.774688484755726],\"50\":[-3.7994637870788983,-6.211067931050971],\"6\":[5.030813706468832,8.63324711927485],\"7\":[1.5263277912199895,5.125330363272237],\"8\":[7.7895093133850555,7.222077977103304],\"9\":[7.564966797799754,6.057181190685339]}},\"id\":\"1042\",\"type\":\"StaticLayoutProvider\"},{\"attributes\":{\"axis\":{\"id\":\"1014\"},\"ticker\":null},\"id\":\"1017\",\"type\":\"Grid\"},{\"attributes\":{},\"id\":\"1070\",\"type\":\"UnionRenderers\"},{\"attributes\":{\"fill_color\":{\"value\":\"skyblue\"},\"size\":{\"value\":15}},\"id\":\"1043\",\"type\":\"Circle\"},{\"attributes\":{\"formatter\":{\"id\":\"1057\"},\"major_label_policy\":{\"id\":\"1059\"},\"ticker\":{\"id\":\"1019\"}},\"id\":\"1018\",\"type\":\"LinearAxis\"},{\"attributes\":{},\"id\":\"1071\",\"type\":\"Selection\"},{\"attributes\":{},\"id\":\"1057\",\"type\":\"BasicTickFormatter\"},{\"attributes\":{\"axis\":{\"id\":\"1018\"},\"dimension\":1,\"ticker\":null},\"id\":\"1021\",\"type\":\"Grid\"},{\"attributes\":{},\"id\":\"1019\",\"type\":\"BasicTicker\"},{\"attributes\":{\"active_multi\":null,\"active_scroll\":{\"id\":\"1023\"},\"tools\":[{\"id\":\"1022\"},{\"id\":\"1023\"},{\"id\":\"1024\"},{\"id\":\"1025\"},{\"id\":\"1026\"}]},\"id\":\"1027\",\"type\":\"Toolbar\"},{\"attributes\":{},\"id\":\"1059\",\"type\":\"AllLabels\"},{\"attributes\":{\"callback\":null,\"tooltips\":[[\"user_id\",\"@user_id\"],[\"public\",\"@public\"],[\"completion_percentage\",\"@completion_percentage\"],[\"gender\",\"@gender\"],[\"region\",\"@region\"],[\"last_login\",\"@last_login\"],[\"registration\",\"@registration\"],[\"AGE\",\"@AGE\"],[\"body\",\"@body\"],[\"I_am_working_in_field\",\"@I_am_working_in_field\"],[\"spoken_languages\",\"@spoken_languages\"],[\"hobbies\",\"@hobbies\"]]},\"id\":\"1026\",\"type\":\"HoverTool\"},{\"attributes\":{\"data\":{\"AGE\":[26,0,22,38,29,26,26,26,0,22,26,26,0,22,23,0,18,21,20,17,19,0,26,20,21,23,19,19,21,24,21,22,23,21,28,20,22,18,0,16,22,19,0,21,21,19,0,23,0,27],\"I_am_working_in_field\":[\"it\",\"economy and finance\",\"NaN\",\"NaN\",\"advertising and media, services and trade\",\"NaN\",\"I am unemployed\",\"NaN\",\"NaN\",\"NaN\",\"NaN\",\"I am studying\",\"NaN\",\"NaN\",\"the biggest company in the world is the labor office\",\"NaN\",\"NaN\",\"sexual\",\"NaN\",\"NaN\",\"NaN\",\"NaN\",\"NaN\",\"I am studying\",\"NaN\",\"construction industry, I'm on the roof like a sparrow :))\",\"electrical engineering, I study, computer engineering\",\"I just go to school for now and see you later\",\"NaN\",\"NaN\",\"ina kysuce forever....inductors and so on... :) :) :)\",\"engineering and energy\",\"so you don't even want to know, it's like life\",\"NaN\",\"NaN\",\"of transport\",\"NaN\",\"NaN\",\"NaN\",\"NaN\",\"I am studying\",\"NaN\",\"NaN\",\"technical administration\",\"services and trade, hairdressing\",\"I am studying\",\"I am studying\",\"gastronomy\",\"agriculture\",\"NaN\"],\"body\":[\"185 cm, 90 kg\",\"NaN\",\"NaN\",\"160 cm, 57 kg\",\"NaN\",\"NaN\",\"NaN\",\"179 cm, 70 kg\",\"168 cm\",\"NaN\",\"NaN\",\"185 cm, 94 kg, I try to work on her in the gym..\",\"NaN\",\"170 cm\",\"173 cm, 70 kg\",\"166 cm, 58 kg\",\"NaN\",\"0.19 cm, 88 kg\",\"NaN\",\"170 cm, 55 kg\",\"169 cm\",\"NaN\",\"187 cm, 80 kg\",\"40 kg\",\"NaN\",\"explained, I'm satisfied\",\"193 cm\",\"168 cm, 50 kg\",\"NaN\",\"170 cm, 75 kg\",\"185 cm, 73 kg, snake and good...\",\"174 cm, 60 kg\",\"180 cm, 70 kg, pretty skinny, almost like an alien :p\",\"NaN\",\"179 cm, 70 kg\",\"190 cm\",\"NaN\",\"NaN\",\"NaN\",\"145 cm, 36 kg\",\"190 cm, 86 kg\",\"185 cm, 75 kg\",\"183 cm, 97 kg\",\"NaN\",\"170 cm, 50 kg\",\"172 cm, 48 kg, at the moment I'm a little less than my weight, but I'll try to balance it... at least until the end of the year... because I can't even look at myself anymore:dd\",\"197 cm, 75 kg, tie yourself! :(\",\"189 cm, 90 kg\",\"NaN\",\"162 cm, 60 kg\"],\"completion_percentage\":[14,28,45,22,38,12,66,53,41,12,12,67,12,64,64,62,31,64,12,81,28,50,71,74,16,72,71,67,12,62,72,69,66,55,64,78,12,29,22,69,40,55,19,55,69,67,76,64,43,47],\"gender\":[1,0,0,0,1,0,1,1,0,0,1,1,0,0,1,0,1,1,0,0,0,0,1,0,0,1,1,0,1,1,1,1,1,0,1,1,1,1,1,1,1,1,1,0,0,0,1,1,0,0],\"hobbies\":[\"sports, sleeping, cinema, food, listening to music, friends, theatre\",\"NaN\",\"playing sports, traveling, surfing the web, listening to music, watching movies, swimming pool, cinema, parties, friends\",\"NaN\",\"sports, travel\",\"NaN\",\"playing sports, working in the garden, playing PC games, listening to music, watching movies, but I added something extra so that you don't think that I spend all my time in front of the computer\",\"playing sports, working with a PC, surfing the web, watching movies, discos, friends\",\"which I don't have much time for at the moment: reading books, long walks in the mountains, picking mushrooms, traveling - getting to know new countries, hiking, preparing yum yum papanicka...\",\"NaN\",\"NaN\",\"there are a lot of them, if you are interested I will be more than happy to specify them :))\",\"NaN\",\"playing sports, housework, cooking, cinema, parties, friends, camping, ... just anything that makes me have fun...:)\",\"travelling, listening to music, not being bored\",\"hiking, working around the house, working with PC, listening to music, watching movies, dancing, discos, swimming pool, cooking, parties, friends, sleeping, shopping, camping\",\"NaN\",\"sports, travel, hiking, watching movies, discos, cinema, parties, friends, sleeping, sex, camping\",\"NaN\",\"painting, rollerblading, sleeping, lounging, camping, hmm, and most of all, me and iwa will talk at lunch eh, working with a PC, cinema, friends, shopping, parties, swimming pool, PC games, work around the house, housework\",\"listening to music, dancing, discos, food, friends, shopping, I also like to sing for myself :dd\",\":d\",\"traveling, working with PC, PC games, reading, listening to music, collecting, painting, cooking, cinema, camping, going to museums\",\"playing sports, traveling, homework, watching movies, dancing, swimming pool, parties, listening to music, discos, cooking\",\"NaN\",\"ehe, of course the computer, watching movies, sports, exercise, walking the dog and if she was a girl, she would also dream hehe\",\"travel, hiking, working with PC, PC games, surfing the web, listening to music, discos, cooking, food, cinema, friends, sleeping, camping\",\"playing sports, photography, listening to music, watching movies, dancing, discos, cinema, parties, friends, sleeping, shopping\",\"NaN\",\"playing sports, hiking, working around the house, working with a computer, cooking, friends, sleeping, sex, camping, .............\",\"sex, friends, discos, listening to music, watching movies, dancing, swimming pool, camping, parties\",\"well, it's just work.-))))\",\"playing sports, working with PC, PC games, listening to music, watching movies, cinema, friends, sex, martial arts\",\"watching movies, painting, dancing, discos, swimming pool, food, cinema, friends, sleeping, shopping, camping\",\"from every dew a slag\",\"listening to music, eating, sleeping, and anything else I can think of\",\"NaN\",\"NaN\",\"NaN\",\"traveling, housework, working with a PC, PC games, surfing the web, watching movies, discotheques, swimming pool, cinema, parties, friends\",\"NaN\",\"playing sports, traveling, working with PC, PC games, surfing the web, listening to music, watching movies, painting, discos, swimming pool, food, cinema, parties, friends, sleeping, camping\",\"NaN\",\"traveling, reading, listening to music, watching movies, painting, partying, friends, sleeping, sex, camping\",\"photography, travel, surfing the web, reading, listening to music, watching movies, dancing, discos, swimming pool, food, cinema, party, friends, sleeping, shopping, sex, camping\",\"traveling, listening to music, dancing, discos, parties, friends, sleeping\",\"watching movies, dancing, swimming pool, food, parties, sleeping, hiking, working with PC, sex, friends, discos\",\"housework, work around the house, working with PC, PC games, listening to music, discos, swimming pool, cooking, food, friends, sleeping, sex\",\"NaN\",\"reading, listening to music, watching movies, sleeping, shopping\"],\"index\":[1,13,11,6,3,4,5,15,14,7,8,12,9,10,16,2,18,19,20,21,22,23,24,25,26,27,28,29,30,31,32,33,34,35,36,37,38,39,40,41,42,43,44,45,46,47,48,49,50,17],\"last_login\":[\"2012-05-25 11:20:00.0\",\"2012-03-26 16:40:00.0\",\"2012-05-21 16:31:00.0\",\"2012-05-25 20:40:00.0\",\"2012-05-10 18:05:00.0\",\"2011-12-29 12:25:00.0\",\"2012-05-25 01:10:00.0\",\"2012-05-25 17:09:00.0\",\"2012-05-25 23:19:41.0\",\"2012-02-03 15:36:00.0\",\"2012-04-15 11:52:00.0\",\"2012-04-30 16:24:00.0\",\"2012-03-03 16:57:00.0\",\"2012-05-14 21:54:00.0\",\"2012-05-25 23:19:40.0\",\"2012-05-25 23:08:00.0\",\"2012-05-02 21:19:00.0\",\"2012-05-25 19:34:00.0\",\"2012-05-22 12:59:00.0\",\"2012-05-25 23:15:00.0\",\"2012-05-23 14:46:00.0\",\"2012-05-23 19:47:00.0\",\"2012-05-18 20:31:00.0\",\"2012-04-30 19:36:00.0\",\"2012-05-11 22:00:00.0\",\"2012-05-05 13:17:00.0\",\"2012-04-17 21:54:00.0\",\"2012-05-25 16:34:00.0\",\"2012-05-25 15:12:00.0\",\"2012-02-18 13:20:00.0\",\"2012-05-13 22:52:00.0\",\"2012-05-13 11:22:00.0\",\"2012-05-15 09:18:00.0\",\"2012-05-25 08:53:00.0\",\"2011-11-17 16:23:00.0\",\"2012-05-25 23:00:00.0\",\"2012-05-25 22:39:00.0\",\"2012-05-25 22:51:00.0\",\"2012-05-23 15:54:00.0\",\"2012-05-13 21:52:00.0\",\"2012-05-24 17:15:00.0\",\"2012-05-10 14:16:00.0\",\"2012-04-20 18:16:00.0\",\"2012-05-25 22:04:00.0\",\"2011-10-29 03:17:00.0\",\"2012-05-25 15:10:00.0\",\"2012-05-23 22:27:00.0\",\"2012-05-23 22:58:00.0\",\"2012-05-24 18:23:00.0\",\"2012-05-25 09:40:00.0\"],\"public\":[1,1,1,0,0,1,1,0,0,1,0,1,0,1,1,1,1,1,0,0,0,0,1,1,0,1,1,1,1,1,1,0,1,0,1,0,0,0,1,1,1,1,0,0,0,1,1,0,0,1],\"region\":[\"Zilina Region, Zilina\",\"Bansk\\u00e1 Bystrica Region, Brezno\",\"Bansk\\u00e1 Bystrica Region, Brezno\",\"Zilina Region, Zilina\",\"Bratislava Region, Bratislava - Karlova Village\",\"Bansk\\u00e1 Bystrica Region, Brezno\",\"Zilina Region, Zilina\",\"Zilina Region, Zilina\",\"Nitra Region, Nitra\",\"Zilinsky region, Martin\",\"Trencian region, ilava\",\"Bansk\\u00e1 Bystrica Region, Brezno\",\"Bansk\\u00e1 Bystrica Region, Brezno\",\"Zilina Region, Cadca\",\"Zilina Region, Kysucke New Town\",\"Zilina Region, Kysucke New Town\",\"Zilina Region, Kysucke New Town\",\"Zilina Region, Kysucke New Town\",\"Zilina Region, Kysucke New Town\",\"Zilina Region, Cadca\",\"Zilina Region, Kysucke New Town\",\"abroad, abroad - France\",\"Zilina Region, Kysucke New Town\",\"Zilina Region, Kysucke New Town\",\"Zilina Region, Cadca\",\"Zilina Region, Zilina\",\"Zilina Region, Cadca\",\"Zilina Region, Kysucke New Town\",\"Zilina Region, Kysucke New Town\",\"Zilina Region, Kysucke New Town\",\"Zilina Region, Kysucke New Town\",\"Zilina Region, Kysucke New Town\",\"Zilina Region, Zilina\",\"Zilina Region, Kysucke New Town\",\"Zilina Region, Kysucke New Town\",\"Zilina Region, Kysucke New Town\",\"Zilina Region, Zilina\",\"Zilina Region, Zilina\",\"Zilina Region, Kysucke New Town\",\"Zilina Region, Zilina\",\"Zilina Region, Zilina\",\"Zilina Region, Kysucke New Town\",\"Zilina Region, Kysucke New Town\",\"Zilina Region, Cadca\",\"Zilina Region, Kysucke New Town\",\"Zilina Region, Kysucke New Town\",\"abroad, abroad - others\",\"Zilina Region, Kysucke New Town\",\"Zilina Region, Zilina\",\"Zilinsky region, Martin\"],\"registration\":[\"2005-04-03 00:00:00.0\",\"2007-10-24 00:00:00.0\",\"2006-11-11 00:00:00.0\",\"2007-12-15 00:00:00.0\",\"2010-05-23 00:00:00.0\",\"2011-12-29 00:00:00.0\",\"2006-05-29 00:00:00.0\",\"2006-02-10 00:00:00.0\",\"2004-12-08 00:00:00.0\",\"2004-09-10 00:00:00.0\",\"2003-11-26 00:00:00.0\",\"2005-09-21 00:00:00.0\",\"2005-11-30 00:00:00.0\",\"2005-10-07 00:00:00.0\",\"2008-05-18 00:00:00.0\",\"2007-11-30 00:00:00.0\",\"2007-12-13 00:00:00.0\",\"2007-03-23 \\u200b\\u200b00:00:00.0\",\"2008-07-27 00:00:00.0\",\"2007-12-31 00:00:00.0\",\"2007-12-05 00:00:00.0\",\"2007-04-11 00:00:00.0\",\"2007-05-14 00:00:00.0\",\"2008-05-28 00:00:00.0\",\"2007-04-18 00:00:00.0\",\"2008-08-27 00:00:00.0\",\"2007-02-14 00:00:00.0\",\"2007-01-12 00:00:00.0\",\"2008-10-20 00:00:00.0\",\"2007-01-01 00:00:00.0\",\"2008-10-21 00:00:00.0\",\"2008-01-02 00:00:00.0\",\"2007-01-24 00:00:00.0\",\"2008-09-13 00:00:00.0\",\"2008-02-12 00:00:00.0\",\"2008-09-17 00:00:00.0\",\"2008-05-24 00:00:00.0\",\"2007-11-29 00:00:00.0\",\"2008-03-23 \\u200b\\u200b00:00:00.0\",\"2008-03-04 00:00:00.0\",\"2007-11-23 00:00:00.0\",\"2008-04-07 00:00:00.0\",\"2007-10-29 00:00:00.0\",\"2007-11-05 00:00:00.0\",\"2008-03-17 00:00:00.0\",\"2007-11-11 00:00:00.0\",\"2008-03-18 00:00:00.0\",\"2008-03-04 00:00:00.0\",\"2007-08-14 00:00:00.0\",\"2006-10-21 00:00:00.0\"],\"spoken_languages\":[\"English\",\"NaN\",\"English, I don't miss a bit and I also chat a little in French\",\"NaN\",\"English, German\",\"NaN\",\"English, German, Pascal\",\"English, so bad, I'm looking for a tutor for French :-)\",\"NaN\",\"NaN\",\"NaN\",\"English, German\",\"NaN\",\"English, German, ...hands, feet...but I'll negotiate :)\",\"but still yours :d and the best friends\",\"German\",\"English\",\"well, just the own one\",\"NaN\",\"German, and our Slovak about 50&#37;\",\"German\",\"\\u2605 English \\u2605\",\"English, German, French, I only know these languages \\u200b\\u200bso as not to tell:))\",\"English\",\"NaN\",\"sexual, english, slovak so much :_))\",\"English a little, but I also speak Slovak and Estonian\",\"English, German and I can master both 100 percent:d:d\",\"NaN\",\"German, Slovak, Czech, but preferably your own\",\"English and Slovak.....\",\"German\",\"German, French, French but only with practice\",\"German, active passive\",\"it ran around that infinity\",\"English, Hungarian\",\"NaN\",\"NaN\",\"NaN\",\"German\",\"English, German - I can ask for schnitzel and potatoes...:d\",\"English\",\"NaN\",\"English, of course Slovak\",\"German, French :)\",\"English, and of course your own ::dd\",\"English, German, Slovak, quietly and loudly :d\",\"German\",\"English and clearly his own\",\"English, German\"],\"user_id\":[1,13,11,6,3,4,5,15,14,7,8,12,9,10,16,2,18,19,20,21,22,23,24,25,26,27,28,29,30,31,32,33,34,35,36,37,38,39,40,41,42,43,44,45,46,47,48,49,50,17]},\"selected\":{\"id\":\"1073\"},\"selection_policy\":{\"id\":\"1072\"}},\"id\":\"1035\",\"type\":\"ColumnDataSource\"},{\"attributes\":{\"data\":{\"end\":[13,11,6,3,4,5,15,14,7,8,12,9,10,16,2,7,21,33,17,2,41,18,19,20,21,22,23,24,25,26,27,28,29,30,31,32,33,34,35,36,37,38,39,40,41,42,43,44,45,46,47,48,49,50,46,40,22,43,29,40,29,47,41,41,47,46,30,32,37,40,40,47,34,46,33,37,36,43,46],\"start\":[1,1,1,1,1,1,1,1,1,1,1,1,1,1,1,13,7,10,10,16,16,2,2,2,2,2,2,2,2,2,2,2,2,2,2,2,2,2,2,2,2,2,2,2,2,2,2,2,2,2,2,2,2,2,18,18,18,18,18,21,22,22,22,23,24,24,24,24,25,25,29,30,30,30,31,32,32,40,43]},\"selected\":{\"id\":\"1071\"},\"selection_policy\":{\"id\":\"1070\"}},\"id\":\"1039\",\"type\":\"ColumnDataSource\"},{\"attributes\":{},\"id\":\"1023\",\"type\":\"WheelZoomTool\"},{\"attributes\":{\"edge_renderer\":{\"id\":\"1040\"},\"inspection_policy\":{\"id\":\"1060\"},\"layout_provider\":{\"id\":\"1042\"},\"node_renderer\":{\"id\":\"1036\"},\"selection_policy\":{\"id\":\"1065\"}},\"id\":\"1033\",\"type\":\"GraphRenderer\"},{\"attributes\":{},\"id\":\"1022\",\"type\":\"PanTool\"},{\"attributes\":{\"source\":{\"id\":\"1035\"}},\"id\":\"1037\",\"type\":\"CDSView\"},{\"attributes\":{},\"id\":\"1024\",\"type\":\"SaveTool\"},{\"attributes\":{},\"id\":\"1025\",\"type\":\"ResetTool\"},{\"attributes\":{\"source\":{\"id\":\"1039\"}},\"id\":\"1041\",\"type\":\"CDSView\"},{\"attributes\":{},\"id\":\"1072\",\"type\":\"UnionRenderers\"},{\"attributes\":{\"formatter\":{\"id\":\"1054\"},\"major_label_policy\":{\"id\":\"1056\"},\"ticker\":{\"id\":\"1015\"}},\"id\":\"1014\",\"type\":\"LinearAxis\"},{\"attributes\":{},\"id\":\"1073\",\"type\":\"Selection\"},{\"attributes\":{},\"id\":\"1060\",\"type\":\"NodesOnly\"},{\"attributes\":{},\"id\":\"1065\",\"type\":\"NodesOnly\"},{\"attributes\":{\"line_alpha\":{\"value\":0.5}},\"id\":\"1048\",\"type\":\"MultiLine\"},{\"attributes\":{},\"id\":\"1012\",\"type\":\"LinearScale\"},{\"attributes\":{},\"id\":\"1054\",\"type\":\"BasicTickFormatter\"},{\"attributes\":{},\"id\":\"1056\",\"type\":\"AllLabels\"},{\"attributes\":{\"end\":10.1,\"start\":-10.1},\"id\":\"1004\",\"type\":\"Range1d\"},{\"attributes\":{\"end\":10.1,\"start\":-10.1},\"id\":\"1003\",\"type\":\"Range1d\"}],\"root_ids\":[\"1005\"]},\"title\":\"Bokeh Application\",\"version\":\"2.3.2\"}};\n  var render_items = [{\"docid\":\"68c72798-c88b-487d-ae78-4bef2c263e0e\",\"root_ids\":[\"1005\"],\"roots\":{\"1005\":\"58fdb1ed-8a2c-42bb-a1de-3b992d09561c\"}}];\n  root.Bokeh.embed.embed_items_notebook(docs_json, render_items);\n\n  }\n  if (root.Bokeh !== undefined) {\n    embed_document(root);\n  } else {\n    var attempts = 0;\n    var timer = setInterval(function(root) {\n      if (root.Bokeh !== undefined) {\n        clearInterval(timer);\n        embed_document(root);\n      } else {\n        attempts++;\n        if (attempts > 100) {\n          clearInterval(timer);\n          console.log(\"Bokeh: ERROR: Unable to run BokehJS code because BokehJS library is missing\");\n        }\n      }\n    }, 10, root)\n  }\n})(window);",
      "application/vnd.bokehjs_exec.v0+json": ""
     },
     "metadata": {
      "application/vnd.bokehjs_exec.v0+json": {
       "id": "1005"
      }
     },
     "output_type": "display_data"
    }
   ],
   "source": [
    "title = 'Testing Network'\n",
    "\n",
    "HOVER_TOOLTIPS = [(p, \"@\"+p) for p in vis_attributes]\n",
    "plot = figure(tooltips = HOVER_TOOLTIPS,\n",
    "              tools=\"pan,wheel_zoom,save,reset\", active_scroll='wheel_zoom',\n",
    "            x_range=Range1d(-10.1, 10.1), y_range=Range1d(-10.1, 10.1), title=title)\n",
    "\n",
    "network_graph = from_networkx(net, networkx.spring_layout, scale=10, center=(0, 0))\n",
    "\n",
    "#Set node size and color\n",
    "network_graph.node_renderer.glyph = Circle(size=15, fill_color='skyblue')\n",
    "\n",
    "#Set edge opacity and width\n",
    "network_graph.edge_renderer.glyph = MultiLine(line_alpha=0.5, line_width=1)\n",
    "plot.renderers.append(network_graph)\n",
    "show(plot)"
   ]
  },
  {
   "cell_type": "code",
   "execution_count": null,
   "metadata": {},
   "outputs": [],
   "source": []
  }
 ],
 "metadata": {
  "kernelspec": {
   "display_name": "Python 3",
   "language": "python",
   "name": "python3"
  },
  "language_info": {
   "codemirror_mode": {
    "name": "ipython",
    "version": 3
   },
   "file_extension": ".py",
   "mimetype": "text/x-python",
   "name": "python",
   "nbconvert_exporter": "python",
   "pygments_lexer": "ipython3",
   "version": "3.8.10"
  },
  "vscode": {
   "interpreter": {
    "hash": "31f2aee4e71d21fbe5cf8b01ff0e069b9275f58929596ceb00d14d90e3e16cd6"
   }
  }
 },
 "nbformat": 4,
 "nbformat_minor": 4
}
